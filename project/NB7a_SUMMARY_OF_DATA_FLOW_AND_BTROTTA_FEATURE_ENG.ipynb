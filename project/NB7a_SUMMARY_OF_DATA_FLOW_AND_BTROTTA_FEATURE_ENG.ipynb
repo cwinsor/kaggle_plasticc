{
 "cells": [
  {
   "cell_type": "markdown",
   "metadata": {},
   "source": [
    "# Review:\n",
    "1. The dataset structure (tables) as received from Kaggle\n",
    "* Steps to process it (from BTROTTA)\n",
    "* The larger picture/context\n"
   ]
  },
  {
   "cell_type": "markdown",
   "metadata": {},
   "source": [
    "# Big picture / context...\n",
    "* In Kaggle we are only responsible for Feature Engineering and Modeling\n",
    "* In real projects we own Preprocessing and Evaluation !"
   ]
  },
  {
   "cell_type": "markdown",
   "metadata": {},
   "source": [
    "![\"foo\",\"bar\"](images/plasticc_data_03.png)"
   ]
  },
  {
   "cell_type": "markdown",
   "metadata": {},
   "source": [
    "# Dataset\n",
    "\n",
    "Here is the dataset structure as received from competition.\n",
    "\n",
    "Metadata, timeseries, training, test.   And \"samples\" test set.\n",
    "\n",
    "![\"foo\",\"bar\"](images/plasticc_data_01.png)"
   ]
  },
  {
   "cell_type": "markdown",
   "metadata": {},
   "source": [
    "# BTROTTA Steps (refer to .pdf and code !)\n",
    "\n",
    "1. **split_test.py*** \n",
    "* ***Feature Engineering*** (calculate_features.py)\n",
    "  * custom calculation in calc_aggs():\n",
    "    * remove noise from flux\n",
    "    * estimate flux at source\n",
    "    * basic features (min, max, std, etc)\n",
    "    * extract peaks\n",
    "    * periodicity (peaks) \n",
    "    \n",
    "* ***Modeling*** (predict.py)\n",
    "  * uses LightGBM...\n",
    "  \n",
    "* ***Finding the Weights*** (to be investigated)\n",
    "* ***Optimizing the Metric*** (to be investigated)\n",
    "* ***Predicting Class 99*** (to be investigated)\n",
    "\n",
    "\n",
    "  \n",
    "  "
   ]
  },
  {
   "cell_type": "markdown",
   "metadata": {},
   "source": [
    "# BTROTTA data flow (within Feature Engineering step)"
   ]
  },
  {
   "cell_type": "markdown",
   "metadata": {},
   "source": [
    "I expect this is typical for \"feature engineering\" with timeseries data. \n",
    "\n",
    "\n",
    "![\"foo\",\"bar\"](images/plasticc_data_02.png)"
   ]
  },
  {
   "cell_type": "code",
   "execution_count": null,
   "metadata": {},
   "outputs": [],
   "source": []
  },
  {
   "cell_type": "code",
   "execution_count": null,
   "metadata": {},
   "outputs": [],
   "source": []
  }
 ],
 "metadata": {
  "kernelspec": {
   "display_name": "Python 3",
   "language": "python",
   "name": "python3"
  },
  "language_info": {
   "codemirror_mode": {
    "name": "ipython",
    "version": 3
   },
   "file_extension": ".py",
   "mimetype": "text/x-python",
   "name": "python",
   "nbconvert_exporter": "python",
   "pygments_lexer": "ipython3",
   "version": "3.6.8"
  }
 },
 "nbformat": 4,
 "nbformat_minor": 2
}
