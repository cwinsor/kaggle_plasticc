{
 "cells": [
  {
   "cell_type": "markdown",
   "metadata": {},
   "source": [
    "# Where we are...\n",
    "* Now that we have the compute infrastructure (AWS)\n",
    "* and did a *bit* of research on the leaderboard approaches\n",
    "* We need to just get familiar with the dataset\n",
    "### This notebook gets back to the dataset\n",
    "### pandas dataFrame is also reviewed (by necessity)"
   ]
  },
  {
   "cell_type": "markdown",
   "metadata": {},
   "source": [
    "* There's a lot of info (almomst too much)\n",
    "  * From the kaggle site (discussion -> info for the challenge...)\n",
    "  * https://www.kaggle.com/michaelapers/the-plasticc-astronomy-starter-kit\n",
    "  * Section 3...\n"
   ]
  },
  {
   "cell_type": "markdown",
   "metadata": {},
   "source": [
    "* Start with our \"Titanic\" basic wrangling...\n",
    "* Then look at the \"starter kit\"\n",
    "* Then look at btrotta"
   ]
  },
  {
   "cell_type": "code",
   "execution_count": 194,
   "metadata": {},
   "outputs": [],
   "source": [
    "import pandas as pd\n",
    "import numpy as np\n",
    "import gc\n",
    "import os"
   ]
  },
  {
   "cell_type": "markdown",
   "metadata": {},
   "source": [
    "* there are:\n",
    "  * [test/train]_set_metadata\n",
    "  * [test/train]_set\n",
    "  * test_set_sample - a small (1M lines of test data)\n",
    "  * sample_submission - example submission file"
   ]
  },
  {
   "cell_type": "code",
   "execution_count": 195,
   "metadata": {},
   "outputs": [],
   "source": [
    "# read data\n",
    "col_dict = {'mjd': np.float64, 'flux': np.float32, 'flux_err': np.float32, 'object_id': np.int32, 'passband': np.int8,\n",
    "            'detected': np.int8}\n",
    "train_meta = pd.read_csv(os.path.join('data', 'training_set_metadata.csv'))\n",
    "train = pd.read_csv(os.path.join('data', 'training_set.csv'), dtype=col_dict)"
   ]
  },
  {
   "cell_type": "markdown",
   "metadata": {},
   "source": [
    "# first look at the metadata (unchanging in time)\n",
    "https://www.kaggle.com/michaelapers/the-plasticc-astronomy-starter-kit#2.-A-Primer-on-the-Dataset---Light-Curves"
   ]
  },
  {
   "cell_type": "markdown",
   "metadata": {},
   "source": [
    "* information about an object that doesn't change over time\n",
    "  * object_id - unique identifier\n",
    "  * ra - right ascension\n",
    "  * decl - declination\n",
    "  * gal_l - galactic longitude\n",
    "  * gal_b - galactic latitude\n",
    "  * ddf - flag that indicates data is from ddf survey (otherwise WFD)\n",
    "  * hostgal_specz - spectrographic redshift of the source  - accurate measure of redshift - available in training and small part of test set\n",
    "  * hostgal_photoz - photometric redshift - meant as proxy for hostgal_specz but less accurate\n",
    "  * hostgal_photoz_err - uncertainty in above\n",
    "  * distmod - distance to source calculated from hostgal_photoz \n",
    "  * mwebv - extinction of light property along line of sight to milky way\n",
    "  * target = class of astronomical source"
   ]
  },
  {
   "cell_type": "code",
   "execution_count": 196,
   "metadata": {},
   "outputs": [
    {
     "data": {
      "text/html": [
       "<div>\n",
       "<style scoped>\n",
       "    .dataframe tbody tr th:only-of-type {\n",
       "        vertical-align: middle;\n",
       "    }\n",
       "\n",
       "    .dataframe tbody tr th {\n",
       "        vertical-align: top;\n",
       "    }\n",
       "\n",
       "    .dataframe thead th {\n",
       "        text-align: right;\n",
       "    }\n",
       "</style>\n",
       "<table border=\"1\" class=\"dataframe\">\n",
       "  <thead>\n",
       "    <tr style=\"text-align: right;\">\n",
       "      <th></th>\n",
       "      <th>object_id</th>\n",
       "      <th>ra</th>\n",
       "      <th>decl</th>\n",
       "      <th>gal_l</th>\n",
       "      <th>gal_b</th>\n",
       "      <th>ddf</th>\n",
       "      <th>hostgal_specz</th>\n",
       "      <th>hostgal_photoz</th>\n",
       "      <th>hostgal_photoz_err</th>\n",
       "      <th>distmod</th>\n",
       "      <th>mwebv</th>\n",
       "      <th>target</th>\n",
       "    </tr>\n",
       "  </thead>\n",
       "  <tbody>\n",
       "    <tr>\n",
       "      <td>0</td>\n",
       "      <td>615</td>\n",
       "      <td>349.046051</td>\n",
       "      <td>-61.943836</td>\n",
       "      <td>320.796530</td>\n",
       "      <td>-51.753706</td>\n",
       "      <td>1</td>\n",
       "      <td>0.0000</td>\n",
       "      <td>0.0000</td>\n",
       "      <td>0.0000</td>\n",
       "      <td>NaN</td>\n",
       "      <td>0.017</td>\n",
       "      <td>92</td>\n",
       "    </tr>\n",
       "    <tr>\n",
       "      <td>1</td>\n",
       "      <td>713</td>\n",
       "      <td>53.085938</td>\n",
       "      <td>-27.784405</td>\n",
       "      <td>223.525509</td>\n",
       "      <td>-54.460748</td>\n",
       "      <td>1</td>\n",
       "      <td>1.8181</td>\n",
       "      <td>1.6267</td>\n",
       "      <td>0.2552</td>\n",
       "      <td>45.4063</td>\n",
       "      <td>0.007</td>\n",
       "      <td>88</td>\n",
       "    </tr>\n",
       "    <tr>\n",
       "      <td>2</td>\n",
       "      <td>730</td>\n",
       "      <td>33.574219</td>\n",
       "      <td>-6.579593</td>\n",
       "      <td>170.455585</td>\n",
       "      <td>-61.548219</td>\n",
       "      <td>1</td>\n",
       "      <td>0.2320</td>\n",
       "      <td>0.2262</td>\n",
       "      <td>0.0157</td>\n",
       "      <td>40.2561</td>\n",
       "      <td>0.021</td>\n",
       "      <td>42</td>\n",
       "    </tr>\n",
       "    <tr>\n",
       "      <td>3</td>\n",
       "      <td>745</td>\n",
       "      <td>0.189873</td>\n",
       "      <td>-45.586655</td>\n",
       "      <td>328.254458</td>\n",
       "      <td>-68.969298</td>\n",
       "      <td>1</td>\n",
       "      <td>0.3037</td>\n",
       "      <td>0.2813</td>\n",
       "      <td>1.1523</td>\n",
       "      <td>40.7951</td>\n",
       "      <td>0.007</td>\n",
       "      <td>90</td>\n",
       "    </tr>\n",
       "    <tr>\n",
       "      <td>4</td>\n",
       "      <td>1124</td>\n",
       "      <td>352.711273</td>\n",
       "      <td>-63.823658</td>\n",
       "      <td>316.922299</td>\n",
       "      <td>-51.059403</td>\n",
       "      <td>1</td>\n",
       "      <td>0.1934</td>\n",
       "      <td>0.2415</td>\n",
       "      <td>0.0176</td>\n",
       "      <td>40.4166</td>\n",
       "      <td>0.024</td>\n",
       "      <td>90</td>\n",
       "    </tr>\n",
       "  </tbody>\n",
       "</table>\n",
       "</div>"
      ],
      "text/plain": [
       "   object_id          ra       decl       gal_l      gal_b  ddf  \\\n",
       "0        615  349.046051 -61.943836  320.796530 -51.753706    1   \n",
       "1        713   53.085938 -27.784405  223.525509 -54.460748    1   \n",
       "2        730   33.574219  -6.579593  170.455585 -61.548219    1   \n",
       "3        745    0.189873 -45.586655  328.254458 -68.969298    1   \n",
       "4       1124  352.711273 -63.823658  316.922299 -51.059403    1   \n",
       "\n",
       "   hostgal_specz  hostgal_photoz  hostgal_photoz_err  distmod  mwebv  target  \n",
       "0         0.0000          0.0000              0.0000      NaN  0.017      92  \n",
       "1         1.8181          1.6267              0.2552  45.4063  0.007      88  \n",
       "2         0.2320          0.2262              0.0157  40.2561  0.021      42  \n",
       "3         0.3037          0.2813              1.1523  40.7951  0.007      90  \n",
       "4         0.1934          0.2415              0.0176  40.4166  0.024      90  "
      ]
     },
     "execution_count": 196,
     "metadata": {},
     "output_type": "execute_result"
    }
   ],
   "source": [
    "train_meta.head()"
   ]
  },
  {
   "cell_type": "markdown",
   "metadata": {},
   "source": [
    "## short aside... pd dataframe indexing and boolean selection...\n",
    "* if you're reviewing pandas DataFrame... good 2-part tutorial at:\n",
    "* https://medium.com/dunder-data/selecting-subsets-of-data-in-pandas-6fcd0170be9c\n",
    "* https://medium.com/dunder-data/selecting-subsets-of-data-in-pandas-39e811c81a0c"
   ]
  },
  {
   "cell_type": "code",
   "execution_count": 197,
   "metadata": {},
   "outputs": [
    {
     "data": {
      "text/plain": [
       "Index(['object_id', 'ra', 'decl', 'gal_l', 'gal_b', 'ddf', 'hostgal_specz',\n",
       "       'hostgal_photoz', 'hostgal_photoz_err', 'distmod', 'mwebv', 'target'],\n",
       "      dtype='object')"
      ]
     },
     "execution_count": 197,
     "metadata": {},
     "output_type": "execute_result"
    }
   ],
   "source": [
    "train_meta.columns"
   ]
  },
  {
   "cell_type": "code",
   "execution_count": 198,
   "metadata": {},
   "outputs": [
    {
     "data": {
      "text/plain": [
       "RangeIndex(start=0, stop=5, step=1)"
      ]
     },
     "execution_count": 198,
     "metadata": {},
     "output_type": "execute_result"
    }
   ],
   "source": [
    "train_meta.head().index"
   ]
  },
  {
   "cell_type": "code",
   "execution_count": 199,
   "metadata": {},
   "outputs": [
    {
     "data": {
      "text/plain": [
       "array([[ 6.15000000e+02,  3.49046051e+02, -6.19438360e+01,\n",
       "         3.20796530e+02, -5.17537060e+01,  1.00000000e+00,\n",
       "         0.00000000e+00,  0.00000000e+00,  0.00000000e+00,\n",
       "                    nan,  1.70000000e-02,  9.20000000e+01],\n",
       "       [ 7.13000000e+02,  5.30859380e+01, -2.77844050e+01,\n",
       "         2.23525509e+02, -5.44607480e+01,  1.00000000e+00,\n",
       "         1.81810000e+00,  1.62670000e+00,  2.55200000e-01,\n",
       "         4.54063000e+01,  7.00000000e-03,  8.80000000e+01],\n",
       "       [ 7.30000000e+02,  3.35742190e+01, -6.57959300e+00,\n",
       "         1.70455585e+02, -6.15482190e+01,  1.00000000e+00,\n",
       "         2.32000000e-01,  2.26200000e-01,  1.57000000e-02,\n",
       "         4.02561000e+01,  2.10000000e-02,  4.20000000e+01],\n",
       "       [ 7.45000000e+02,  1.89873000e-01, -4.55866550e+01,\n",
       "         3.28254458e+02, -6.89692980e+01,  1.00000000e+00,\n",
       "         3.03700000e-01,  2.81300000e-01,  1.15230000e+00,\n",
       "         4.07951000e+01,  7.00000000e-03,  9.00000000e+01],\n",
       "       [ 1.12400000e+03,  3.52711273e+02, -6.38236580e+01,\n",
       "         3.16922299e+02, -5.10594030e+01,  1.00000000e+00,\n",
       "         1.93400000e-01,  2.41500000e-01,  1.76000000e-02,\n",
       "         4.04166000e+01,  2.40000000e-02,  9.00000000e+01]])"
      ]
     },
     "execution_count": 199,
     "metadata": {},
     "output_type": "execute_result"
    }
   ],
   "source": [
    "train_meta.head().values"
   ]
  },
  {
   "cell_type": "code",
   "execution_count": 208,
   "metadata": {},
   "outputs": [
    {
     "name": "stdout",
     "output_type": "stream",
     "text": [
      "<class 'pandas.core.series.Series'> (5,)\n",
      "<class 'pandas.core.frame.DataFrame'> (5, 1)\n",
      "<class 'pandas.core.series.Series'> (12,)\n",
      "<class 'pandas.core.frame.DataFrame'> (2, 12)\n",
      "<class 'pandas.core.frame.DataFrame'> (2, 1)\n",
      "---\n",
      " object_id             745.000000\n",
      "ra                      0.189873\n",
      "decl                  -45.586655\n",
      "gal_l                 328.254458\n",
      "gal_b                 -68.969298\n",
      "ddf                     1.000000\n",
      "hostgal_specz           0.303700\n",
      "hostgal_photoz          0.281300\n",
      "hostgal_photoz_err      1.152300\n",
      "distmod                40.795100\n",
      "mwebv                   0.007000\n",
      "target                 90.000000\n",
      "Name: 3, dtype: float64\n",
      "---\n",
      "    object_id          ra       decl       gal_l      gal_b  ddf  \\\n",
      "0        615  349.046051 -61.943836  320.796530 -51.753706    1   \n",
      "3        745    0.189873 -45.586655  328.254458 -68.969298    1   \n",
      "\n",
      "   hostgal_specz  hostgal_photoz  hostgal_photoz_err  distmod  mwebv  target  \n",
      "0         0.0000          0.0000              0.0000      NaN  0.017      92  \n",
      "3         0.3037          0.2813              1.1523  40.7951  0.007      90  \n",
      "---\n",
      "    target\n",
      "0      92\n",
      "3      90\n"
     ]
    }
   ],
   "source": [
    "# using \".loc\" and 'just the index operator'\n",
    "a = train_meta.head()[\"target\"]\n",
    "b = train_meta.head()[[\"target\"]]\n",
    "c = train_meta.head().loc[3]\n",
    "d = train_meta.head().loc[[0,3]]\n",
    "e = train_meta.head().loc[[0,3],[\"target\"]]\n",
    "print(type(a), a.shape)\n",
    "print(type(b), b.shape)\n",
    "print(type(c), c.shape)\n",
    "print(type(d), d.shape)\n",
    "print(type(e), e.shape)\n",
    "\n",
    "print(\"---\\n\",c)\n",
    "print(\"---\\n\",d)\n",
    "print(\"---\\n\",e)"
   ]
  },
  {
   "cell_type": "code",
   "execution_count": 201,
   "metadata": {},
   "outputs": [
    {
     "data": {
      "text/html": [
       "<div>\n",
       "<style scoped>\n",
       "    .dataframe tbody tr th:only-of-type {\n",
       "        vertical-align: middle;\n",
       "    }\n",
       "\n",
       "    .dataframe tbody tr th {\n",
       "        vertical-align: top;\n",
       "    }\n",
       "\n",
       "    .dataframe thead th {\n",
       "        text-align: right;\n",
       "    }\n",
       "</style>\n",
       "<table border=\"1\" class=\"dataframe\">\n",
       "  <thead>\n",
       "    <tr style=\"text-align: right;\">\n",
       "      <th></th>\n",
       "      <th>target</th>\n",
       "    </tr>\n",
       "  </thead>\n",
       "  <tbody>\n",
       "    <tr>\n",
       "      <td>3</td>\n",
       "      <td>90</td>\n",
       "    </tr>\n",
       "    <tr>\n",
       "      <td>5</td>\n",
       "      <td>65</td>\n",
       "    </tr>\n",
       "  </tbody>\n",
       "</table>\n",
       "</div>"
      ],
      "text/plain": [
       "   target\n",
       "3      90\n",
       "5      65"
      ]
     },
     "execution_count": 201,
     "metadata": {},
     "output_type": "execute_result"
    }
   ],
   "source": [
    "train_meta.loc[[3,5],[\"target\"]]"
   ]
  },
  {
   "cell_type": "code",
   "execution_count": 202,
   "metadata": {},
   "outputs": [
    {
     "data": {
      "text/html": [
       "<div>\n",
       "<style scoped>\n",
       "    .dataframe tbody tr th:only-of-type {\n",
       "        vertical-align: middle;\n",
       "    }\n",
       "\n",
       "    .dataframe tbody tr th {\n",
       "        vertical-align: top;\n",
       "    }\n",
       "\n",
       "    .dataframe thead th {\n",
       "        text-align: right;\n",
       "    }\n",
       "</style>\n",
       "<table border=\"1\" class=\"dataframe\">\n",
       "  <thead>\n",
       "    <tr style=\"text-align: right;\">\n",
       "      <th></th>\n",
       "      <th>target</th>\n",
       "    </tr>\n",
       "  </thead>\n",
       "  <tbody>\n",
       "    <tr>\n",
       "      <td>3</td>\n",
       "      <td>90</td>\n",
       "    </tr>\n",
       "    <tr>\n",
       "      <td>4</td>\n",
       "      <td>90</td>\n",
       "    </tr>\n",
       "    <tr>\n",
       "      <td>5</td>\n",
       "      <td>65</td>\n",
       "    </tr>\n",
       "  </tbody>\n",
       "</table>\n",
       "</div>"
      ],
      "text/plain": [
       "   target\n",
       "3      90\n",
       "4      90\n",
       "5      65"
      ]
     },
     "execution_count": 202,
     "metadata": {},
     "output_type": "execute_result"
    }
   ],
   "source": [
    "train_meta.loc[3:5,[\"target\"]]"
   ]
  },
  {
   "cell_type": "code",
   "execution_count": 203,
   "metadata": {},
   "outputs": [
    {
     "data": {
      "text/html": [
       "<div>\n",
       "<style scoped>\n",
       "    .dataframe tbody tr th:only-of-type {\n",
       "        vertical-align: middle;\n",
       "    }\n",
       "\n",
       "    .dataframe tbody tr th {\n",
       "        vertical-align: top;\n",
       "    }\n",
       "\n",
       "    .dataframe thead th {\n",
       "        text-align: right;\n",
       "    }\n",
       "</style>\n",
       "<table border=\"1\" class=\"dataframe\">\n",
       "  <thead>\n",
       "    <tr style=\"text-align: right;\">\n",
       "      <th></th>\n",
       "      <th>object_id</th>\n",
       "      <th>ra</th>\n",
       "      <th>decl</th>\n",
       "      <th>gal_l</th>\n",
       "      <th>gal_b</th>\n",
       "      <th>ddf</th>\n",
       "      <th>hostgal_specz</th>\n",
       "      <th>hostgal_photoz</th>\n",
       "      <th>hostgal_photoz_err</th>\n",
       "      <th>distmod</th>\n",
       "      <th>mwebv</th>\n",
       "      <th>target</th>\n",
       "    </tr>\n",
       "  </thead>\n",
       "  <tbody>\n",
       "    <tr>\n",
       "      <td>3</td>\n",
       "      <td>745</td>\n",
       "      <td>0.189873</td>\n",
       "      <td>-45.586655</td>\n",
       "      <td>328.254458</td>\n",
       "      <td>-68.969298</td>\n",
       "      <td>1</td>\n",
       "      <td>0.3037</td>\n",
       "      <td>0.2813</td>\n",
       "      <td>1.1523</td>\n",
       "      <td>40.7951</td>\n",
       "      <td>0.007</td>\n",
       "      <td>90</td>\n",
       "    </tr>\n",
       "    <tr>\n",
       "      <td>4</td>\n",
       "      <td>1124</td>\n",
       "      <td>352.711273</td>\n",
       "      <td>-63.823658</td>\n",
       "      <td>316.922299</td>\n",
       "      <td>-51.059403</td>\n",
       "      <td>1</td>\n",
       "      <td>0.1934</td>\n",
       "      <td>0.2415</td>\n",
       "      <td>0.0176</td>\n",
       "      <td>40.4166</td>\n",
       "      <td>0.024</td>\n",
       "      <td>90</td>\n",
       "    </tr>\n",
       "  </tbody>\n",
       "</table>\n",
       "</div>"
      ],
      "text/plain": [
       "   object_id          ra       decl       gal_l      gal_b  ddf  \\\n",
       "3        745    0.189873 -45.586655  328.254458 -68.969298    1   \n",
       "4       1124  352.711273 -63.823658  316.922299 -51.059403    1   \n",
       "\n",
       "   hostgal_specz  hostgal_photoz  hostgal_photoz_err  distmod  mwebv  target  \n",
       "3         0.3037          0.2813              1.1523  40.7951  0.007      90  \n",
       "4         0.1934          0.2415              0.0176  40.4166  0.024      90  "
      ]
     },
     "execution_count": 203,
     "metadata": {},
     "output_type": "execute_result"
    }
   ],
   "source": [
    "# this is an overload of the 'just the index operator' where it is given a slice\n",
    "# in this case it is ROW selection !\n",
    "train_meta.head()[3:5]"
   ]
  },
  {
   "cell_type": "code",
   "execution_count": 204,
   "metadata": {},
   "outputs": [
    {
     "data": {
      "text/html": [
       "<div>\n",
       "<style scoped>\n",
       "    .dataframe tbody tr th:only-of-type {\n",
       "        vertical-align: middle;\n",
       "    }\n",
       "\n",
       "    .dataframe tbody tr th {\n",
       "        vertical-align: top;\n",
       "    }\n",
       "\n",
       "    .dataframe thead th {\n",
       "        text-align: right;\n",
       "    }\n",
       "</style>\n",
       "<table border=\"1\" class=\"dataframe\">\n",
       "  <thead>\n",
       "    <tr style=\"text-align: right;\">\n",
       "      <th></th>\n",
       "      <th>object_id</th>\n",
       "      <th>ra</th>\n",
       "      <th>decl</th>\n",
       "      <th>gal_l</th>\n",
       "      <th>gal_b</th>\n",
       "      <th>ddf</th>\n",
       "      <th>hostgal_specz</th>\n",
       "      <th>hostgal_photoz</th>\n",
       "      <th>hostgal_photoz_err</th>\n",
       "      <th>distmod</th>\n",
       "      <th>mwebv</th>\n",
       "      <th>target</th>\n",
       "    </tr>\n",
       "  </thead>\n",
       "  <tbody>\n",
       "    <tr>\n",
       "      <td>0</td>\n",
       "      <td>615</td>\n",
       "      <td>349.046051</td>\n",
       "      <td>-61.943836</td>\n",
       "      <td>320.796530</td>\n",
       "      <td>-51.753706</td>\n",
       "      <td>1</td>\n",
       "      <td>0.0000</td>\n",
       "      <td>0.0000</td>\n",
       "      <td>0.0000</td>\n",
       "      <td>NaN</td>\n",
       "      <td>0.017</td>\n",
       "      <td>92</td>\n",
       "    </tr>\n",
       "    <tr>\n",
       "      <td>1</td>\n",
       "      <td>713</td>\n",
       "      <td>53.085938</td>\n",
       "      <td>-27.784405</td>\n",
       "      <td>223.525509</td>\n",
       "      <td>-54.460748</td>\n",
       "      <td>1</td>\n",
       "      <td>1.8181</td>\n",
       "      <td>1.6267</td>\n",
       "      <td>0.2552</td>\n",
       "      <td>45.4063</td>\n",
       "      <td>0.007</td>\n",
       "      <td>88</td>\n",
       "    </tr>\n",
       "    <tr>\n",
       "      <td>4</td>\n",
       "      <td>1124</td>\n",
       "      <td>352.711273</td>\n",
       "      <td>-63.823658</td>\n",
       "      <td>316.922299</td>\n",
       "      <td>-51.059403</td>\n",
       "      <td>1</td>\n",
       "      <td>0.1934</td>\n",
       "      <td>0.2415</td>\n",
       "      <td>0.0176</td>\n",
       "      <td>40.4166</td>\n",
       "      <td>0.024</td>\n",
       "      <td>90</td>\n",
       "    </tr>\n",
       "  </tbody>\n",
       "</table>\n",
       "</div>"
      ],
      "text/plain": [
       "   object_id          ra       decl       gal_l      gal_b  ddf  \\\n",
       "0        615  349.046051 -61.943836  320.796530 -51.753706    1   \n",
       "1        713   53.085938 -27.784405  223.525509 -54.460748    1   \n",
       "4       1124  352.711273 -63.823658  316.922299 -51.059403    1   \n",
       "\n",
       "   hostgal_specz  hostgal_photoz  hostgal_photoz_err  distmod  mwebv  target  \n",
       "0         0.0000          0.0000              0.0000      NaN  0.017      92  \n",
       "1         1.8181          1.6267              0.2552  45.4063  0.007      88  \n",
       "4         0.1934          0.2415              0.0176  40.4166  0.024      90  "
      ]
     },
     "execution_count": 204,
     "metadata": {},
     "output_type": "execute_result"
    }
   ],
   "source": [
    "# this is an overload of the 'just the index operator' where it is given a list of booleans\n",
    "# in this case it is ROW selection\n",
    "# it is the basis of boolean indexing\n",
    "train_meta.head()[[True, True, False, False, True]]"
   ]
  },
  {
   "cell_type": "markdown",
   "metadata": {},
   "source": [
    "### q: how many target class?"
   ]
  },
  {
   "cell_type": "code",
   "execution_count": 205,
   "metadata": {},
   "outputs": [
    {
     "data": {
      "text/plain": [
       "array([92, 88, 42, 90, 65, 16, 67, 95, 62, 15, 52,  6, 64, 53],\n",
       "      dtype=int64)"
      ]
     },
     "execution_count": 205,
     "metadata": {},
     "output_type": "execute_result"
    }
   ],
   "source": [
    "train_meta[\"target\"].unique()"
   ]
  },
  {
   "cell_type": "markdown",
   "metadata": {},
   "source": [
    "### a: there are 14 classes in the \"train_meta\" set.\n"
   ]
  },
  {
   "cell_type": "markdown",
   "metadata": {},
   "source": [
    "### q: describe(), corr(), info()"
   ]
  },
  {
   "cell_type": "code",
   "execution_count": 206,
   "metadata": {},
   "outputs": [
    {
     "data": {
      "text/html": [
       "<div>\n",
       "<style scoped>\n",
       "    .dataframe tbody tr th:only-of-type {\n",
       "        vertical-align: middle;\n",
       "    }\n",
       "\n",
       "    .dataframe tbody tr th {\n",
       "        vertical-align: top;\n",
       "    }\n",
       "\n",
       "    .dataframe thead th {\n",
       "        text-align: right;\n",
       "    }\n",
       "</style>\n",
       "<table border=\"1\" class=\"dataframe\">\n",
       "  <thead>\n",
       "    <tr style=\"text-align: right;\">\n",
       "      <th></th>\n",
       "      <th>object_id</th>\n",
       "      <th>ra</th>\n",
       "      <th>decl</th>\n",
       "      <th>gal_l</th>\n",
       "      <th>gal_b</th>\n",
       "      <th>ddf</th>\n",
       "      <th>hostgal_specz</th>\n",
       "      <th>hostgal_photoz</th>\n",
       "      <th>hostgal_photoz_err</th>\n",
       "      <th>distmod</th>\n",
       "      <th>mwebv</th>\n",
       "      <th>target</th>\n",
       "    </tr>\n",
       "  </thead>\n",
       "  <tbody>\n",
       "    <tr>\n",
       "      <td>count</td>\n",
       "      <td>7.848000e+03</td>\n",
       "      <td>7848.000000</td>\n",
       "      <td>7848.000000</td>\n",
       "      <td>7848.000000</td>\n",
       "      <td>7848.000000</td>\n",
       "      <td>7848.000000</td>\n",
       "      <td>7848.000000</td>\n",
       "      <td>7848.000000</td>\n",
       "      <td>7848.000000</td>\n",
       "      <td>5523.000000</td>\n",
       "      <td>7848.000000</td>\n",
       "      <td>7848.000000</td>\n",
       "    </tr>\n",
       "    <tr>\n",
       "      <td>mean</td>\n",
       "      <td>4.810375e+07</td>\n",
       "      <td>169.719379</td>\n",
       "      <td>-27.254846</td>\n",
       "      <td>230.466784</td>\n",
       "      <td>-20.115526</td>\n",
       "      <td>0.269623</td>\n",
       "      <td>0.254436</td>\n",
       "      <td>0.357885</td>\n",
       "      <td>0.155695</td>\n",
       "      <td>41.263961</td>\n",
       "      <td>0.081953</td>\n",
       "      <td>60.895387</td>\n",
       "    </tr>\n",
       "    <tr>\n",
       "      <td>std</td>\n",
       "      <td>4.347364e+07</td>\n",
       "      <td>114.212761</td>\n",
       "      <td>20.248556</td>\n",
       "      <td>97.416392</td>\n",
       "      <td>40.390899</td>\n",
       "      <td>0.443792</td>\n",
       "      <td>0.330053</td>\n",
       "      <td>0.545552</td>\n",
       "      <td>0.300367</td>\n",
       "      <td>2.262711</td>\n",
       "      <td>0.150598</td>\n",
       "      <td>28.767984</td>\n",
       "    </tr>\n",
       "    <tr>\n",
       "      <td>min</td>\n",
       "      <td>6.150000e+02</td>\n",
       "      <td>0.175781</td>\n",
       "      <td>-64.760857</td>\n",
       "      <td>0.107681</td>\n",
       "      <td>-89.615573</td>\n",
       "      <td>0.000000</td>\n",
       "      <td>0.000000</td>\n",
       "      <td>0.000000</td>\n",
       "      <td>0.000000</td>\n",
       "      <td>31.996100</td>\n",
       "      <td>0.003000</td>\n",
       "      <td>6.000000</td>\n",
       "    </tr>\n",
       "    <tr>\n",
       "      <td>25%</td>\n",
       "      <td>3.180865e+05</td>\n",
       "      <td>62.402344</td>\n",
       "      <td>-44.597992</td>\n",
       "      <td>207.248509</td>\n",
       "      <td>-54.509752</td>\n",
       "      <td>0.000000</td>\n",
       "      <td>0.000000</td>\n",
       "      <td>0.000000</td>\n",
       "      <td>0.000000</td>\n",
       "      <td>39.845250</td>\n",
       "      <td>0.018000</td>\n",
       "      <td>42.000000</td>\n",
       "    </tr>\n",
       "    <tr>\n",
       "      <td>50%</td>\n",
       "      <td>4.131719e+07</td>\n",
       "      <td>150.996094</td>\n",
       "      <td>-27.279613</td>\n",
       "      <td>244.127187</td>\n",
       "      <td>-30.217582</td>\n",
       "      <td>0.000000</td>\n",
       "      <td>0.182750</td>\n",
       "      <td>0.210300</td>\n",
       "      <td>0.018000</td>\n",
       "      <td>41.167900</td>\n",
       "      <td>0.032000</td>\n",
       "      <td>65.000000</td>\n",
       "    </tr>\n",
       "    <tr>\n",
       "      <td>75%</td>\n",
       "      <td>8.665901e+07</td>\n",
       "      <td>282.875976</td>\n",
       "      <td>-8.838267</td>\n",
       "      <td>313.224277</td>\n",
       "      <td>16.913859</td>\n",
       "      <td>1.000000</td>\n",
       "      <td>0.350125</td>\n",
       "      <td>0.431200</td>\n",
       "      <td>0.122375</td>\n",
       "      <td>42.398550</td>\n",
       "      <td>0.076000</td>\n",
       "      <td>90.000000</td>\n",
       "    </tr>\n",
       "    <tr>\n",
       "      <td>max</td>\n",
       "      <td>1.307798e+08</td>\n",
       "      <td>359.824219</td>\n",
       "      <td>4.181528</td>\n",
       "      <td>359.943827</td>\n",
       "      <td>65.931317</td>\n",
       "      <td>1.000000</td>\n",
       "      <td>3.445100</td>\n",
       "      <td>2.999400</td>\n",
       "      <td>1.734800</td>\n",
       "      <td>47.025600</td>\n",
       "      <td>2.747000</td>\n",
       "      <td>95.000000</td>\n",
       "    </tr>\n",
       "  </tbody>\n",
       "</table>\n",
       "</div>"
      ],
      "text/plain": [
       "          object_id           ra         decl        gal_l        gal_b  \\\n",
       "count  7.848000e+03  7848.000000  7848.000000  7848.000000  7848.000000   \n",
       "mean   4.810375e+07   169.719379   -27.254846   230.466784   -20.115526   \n",
       "std    4.347364e+07   114.212761    20.248556    97.416392    40.390899   \n",
       "min    6.150000e+02     0.175781   -64.760857     0.107681   -89.615573   \n",
       "25%    3.180865e+05    62.402344   -44.597992   207.248509   -54.509752   \n",
       "50%    4.131719e+07   150.996094   -27.279613   244.127187   -30.217582   \n",
       "75%    8.665901e+07   282.875976    -8.838267   313.224277    16.913859   \n",
       "max    1.307798e+08   359.824219     4.181528   359.943827    65.931317   \n",
       "\n",
       "               ddf  hostgal_specz  hostgal_photoz  hostgal_photoz_err  \\\n",
       "count  7848.000000    7848.000000     7848.000000         7848.000000   \n",
       "mean      0.269623       0.254436        0.357885            0.155695   \n",
       "std       0.443792       0.330053        0.545552            0.300367   \n",
       "min       0.000000       0.000000        0.000000            0.000000   \n",
       "25%       0.000000       0.000000        0.000000            0.000000   \n",
       "50%       0.000000       0.182750        0.210300            0.018000   \n",
       "75%       1.000000       0.350125        0.431200            0.122375   \n",
       "max       1.000000       3.445100        2.999400            1.734800   \n",
       "\n",
       "           distmod        mwebv       target  \n",
       "count  5523.000000  7848.000000  7848.000000  \n",
       "mean     41.263961     0.081953    60.895387  \n",
       "std       2.262711     0.150598    28.767984  \n",
       "min      31.996100     0.003000     6.000000  \n",
       "25%      39.845250     0.018000    42.000000  \n",
       "50%      41.167900     0.032000    65.000000  \n",
       "75%      42.398550     0.076000    90.000000  \n",
       "max      47.025600     2.747000    95.000000  "
      ]
     },
     "execution_count": 206,
     "metadata": {},
     "output_type": "execute_result"
    }
   ],
   "source": [
    "train_meta.describe()"
   ]
  },
  {
   "cell_type": "code",
   "execution_count": 155,
   "metadata": {},
   "outputs": [
    {
     "data": {
      "text/html": [
       "<div>\n",
       "<style scoped>\n",
       "    .dataframe tbody tr th:only-of-type {\n",
       "        vertical-align: middle;\n",
       "    }\n",
       "\n",
       "    .dataframe tbody tr th {\n",
       "        vertical-align: top;\n",
       "    }\n",
       "\n",
       "    .dataframe thead th {\n",
       "        text-align: right;\n",
       "    }\n",
       "</style>\n",
       "<table border=\"1\" class=\"dataframe\">\n",
       "  <thead>\n",
       "    <tr style=\"text-align: right;\">\n",
       "      <th></th>\n",
       "      <th>object_id</th>\n",
       "      <th>ra</th>\n",
       "      <th>decl</th>\n",
       "      <th>gal_l</th>\n",
       "      <th>gal_b</th>\n",
       "      <th>ddf</th>\n",
       "      <th>hostgal_specz</th>\n",
       "      <th>hostgal_photoz</th>\n",
       "      <th>hostgal_photoz_err</th>\n",
       "      <th>distmod</th>\n",
       "      <th>mwebv</th>\n",
       "      <th>target</th>\n",
       "    </tr>\n",
       "  </thead>\n",
       "  <tbody>\n",
       "    <tr>\n",
       "      <td>object_id</td>\n",
       "      <td>1.000000</td>\n",
       "      <td>0.018335</td>\n",
       "      <td>0.047821</td>\n",
       "      <td>-0.123909</td>\n",
       "      <td>0.155451</td>\n",
       "      <td>-0.669899</td>\n",
       "      <td>-0.057409</td>\n",
       "      <td>-0.017225</td>\n",
       "      <td>-0.018940</td>\n",
       "      <td>-0.042652</td>\n",
       "      <td>0.171717</td>\n",
       "      <td>-0.122899</td>\n",
       "    </tr>\n",
       "    <tr>\n",
       "      <td>ra</td>\n",
       "      <td>0.018335</td>\n",
       "      <td>1.000000</td>\n",
       "      <td>-0.237186</td>\n",
       "      <td>-0.086194</td>\n",
       "      <td>0.102386</td>\n",
       "      <td>-0.033685</td>\n",
       "      <td>-0.007056</td>\n",
       "      <td>-0.001598</td>\n",
       "      <td>-0.012703</td>\n",
       "      <td>-0.000518</td>\n",
       "      <td>0.028959</td>\n",
       "      <td>-0.014805</td>\n",
       "    </tr>\n",
       "    <tr>\n",
       "      <td>decl</td>\n",
       "      <td>0.047821</td>\n",
       "      <td>-0.237186</td>\n",
       "      <td>1.000000</td>\n",
       "      <td>-0.479090</td>\n",
       "      <td>0.389756</td>\n",
       "      <td>-0.081657</td>\n",
       "      <td>-0.013626</td>\n",
       "      <td>-0.011385</td>\n",
       "      <td>-0.020795</td>\n",
       "      <td>-0.016917</td>\n",
       "      <td>-0.000572</td>\n",
       "      <td>-0.018324</td>\n",
       "    </tr>\n",
       "    <tr>\n",
       "      <td>gal_l</td>\n",
       "      <td>-0.123909</td>\n",
       "      <td>-0.086194</td>\n",
       "      <td>-0.479090</td>\n",
       "      <td>1.000000</td>\n",
       "      <td>0.186651</td>\n",
       "      <td>0.192074</td>\n",
       "      <td>0.011569</td>\n",
       "      <td>-0.010038</td>\n",
       "      <td>0.003269</td>\n",
       "      <td>0.022230</td>\n",
       "      <td>-0.046744</td>\n",
       "      <td>0.025688</td>\n",
       "    </tr>\n",
       "    <tr>\n",
       "      <td>gal_b</td>\n",
       "      <td>0.155451</td>\n",
       "      <td>0.102386</td>\n",
       "      <td>0.389756</td>\n",
       "      <td>0.186651</td>\n",
       "      <td>1.000000</td>\n",
       "      <td>-0.227252</td>\n",
       "      <td>-0.092992</td>\n",
       "      <td>-0.081450</td>\n",
       "      <td>-0.054421</td>\n",
       "      <td>-0.031091</td>\n",
       "      <td>0.233316</td>\n",
       "      <td>-0.119809</td>\n",
       "    </tr>\n",
       "    <tr>\n",
       "      <td>ddf</td>\n",
       "      <td>-0.669899</td>\n",
       "      <td>-0.033685</td>\n",
       "      <td>-0.081657</td>\n",
       "      <td>0.192074</td>\n",
       "      <td>-0.227252</td>\n",
       "      <td>1.000000</td>\n",
       "      <td>0.086603</td>\n",
       "      <td>0.042447</td>\n",
       "      <td>0.027191</td>\n",
       "      <td>0.082416</td>\n",
       "      <td>-0.267189</td>\n",
       "      <td>0.181522</td>\n",
       "    </tr>\n",
       "    <tr>\n",
       "      <td>hostgal_specz</td>\n",
       "      <td>-0.057409</td>\n",
       "      <td>-0.007056</td>\n",
       "      <td>-0.013626</td>\n",
       "      <td>0.011569</td>\n",
       "      <td>-0.092992</td>\n",
       "      <td>0.086603</td>\n",
       "      <td>1.000000</td>\n",
       "      <td>0.550373</td>\n",
       "      <td>0.106962</td>\n",
       "      <td>0.583446</td>\n",
       "      <td>-0.146782</td>\n",
       "      <td>0.412562</td>\n",
       "    </tr>\n",
       "    <tr>\n",
       "      <td>hostgal_photoz</td>\n",
       "      <td>-0.017225</td>\n",
       "      <td>-0.001598</td>\n",
       "      <td>-0.011385</td>\n",
       "      <td>-0.010038</td>\n",
       "      <td>-0.081450</td>\n",
       "      <td>0.042447</td>\n",
       "      <td>0.550373</td>\n",
       "      <td>1.000000</td>\n",
       "      <td>0.491055</td>\n",
       "      <td>0.867516</td>\n",
       "      <td>-0.112734</td>\n",
       "      <td>0.244450</td>\n",
       "    </tr>\n",
       "    <tr>\n",
       "      <td>hostgal_photoz_err</td>\n",
       "      <td>-0.018940</td>\n",
       "      <td>-0.012703</td>\n",
       "      <td>-0.020795</td>\n",
       "      <td>0.003269</td>\n",
       "      <td>-0.054421</td>\n",
       "      <td>0.027191</td>\n",
       "      <td>0.106962</td>\n",
       "      <td>0.491055</td>\n",
       "      <td>1.000000</td>\n",
       "      <td>0.306534</td>\n",
       "      <td>-0.084931</td>\n",
       "      <td>0.110821</td>\n",
       "    </tr>\n",
       "    <tr>\n",
       "      <td>distmod</td>\n",
       "      <td>-0.042652</td>\n",
       "      <td>-0.000518</td>\n",
       "      <td>-0.016917</td>\n",
       "      <td>0.022230</td>\n",
       "      <td>-0.031091</td>\n",
       "      <td>0.082416</td>\n",
       "      <td>0.583446</td>\n",
       "      <td>0.867516</td>\n",
       "      <td>0.306534</td>\n",
       "      <td>1.000000</td>\n",
       "      <td>-0.062727</td>\n",
       "      <td>0.274068</td>\n",
       "    </tr>\n",
       "    <tr>\n",
       "      <td>mwebv</td>\n",
       "      <td>0.171717</td>\n",
       "      <td>0.028959</td>\n",
       "      <td>-0.000572</td>\n",
       "      <td>-0.046744</td>\n",
       "      <td>0.233316</td>\n",
       "      <td>-0.267189</td>\n",
       "      <td>-0.146782</td>\n",
       "      <td>-0.112734</td>\n",
       "      <td>-0.084931</td>\n",
       "      <td>-0.062727</td>\n",
       "      <td>1.000000</td>\n",
       "      <td>-0.174853</td>\n",
       "    </tr>\n",
       "    <tr>\n",
       "      <td>target</td>\n",
       "      <td>-0.122899</td>\n",
       "      <td>-0.014805</td>\n",
       "      <td>-0.018324</td>\n",
       "      <td>0.025688</td>\n",
       "      <td>-0.119809</td>\n",
       "      <td>0.181522</td>\n",
       "      <td>0.412562</td>\n",
       "      <td>0.244450</td>\n",
       "      <td>0.110821</td>\n",
       "      <td>0.274068</td>\n",
       "      <td>-0.174853</td>\n",
       "      <td>1.000000</td>\n",
       "    </tr>\n",
       "  </tbody>\n",
       "</table>\n",
       "</div>"
      ],
      "text/plain": [
       "                    object_id        ra      decl     gal_l     gal_b  \\\n",
       "object_id            1.000000  0.018335  0.047821 -0.123909  0.155451   \n",
       "ra                   0.018335  1.000000 -0.237186 -0.086194  0.102386   \n",
       "decl                 0.047821 -0.237186  1.000000 -0.479090  0.389756   \n",
       "gal_l               -0.123909 -0.086194 -0.479090  1.000000  0.186651   \n",
       "gal_b                0.155451  0.102386  0.389756  0.186651  1.000000   \n",
       "ddf                 -0.669899 -0.033685 -0.081657  0.192074 -0.227252   \n",
       "hostgal_specz       -0.057409 -0.007056 -0.013626  0.011569 -0.092992   \n",
       "hostgal_photoz      -0.017225 -0.001598 -0.011385 -0.010038 -0.081450   \n",
       "hostgal_photoz_err  -0.018940 -0.012703 -0.020795  0.003269 -0.054421   \n",
       "distmod             -0.042652 -0.000518 -0.016917  0.022230 -0.031091   \n",
       "mwebv                0.171717  0.028959 -0.000572 -0.046744  0.233316   \n",
       "target              -0.122899 -0.014805 -0.018324  0.025688 -0.119809   \n",
       "\n",
       "                         ddf  hostgal_specz  hostgal_photoz  \\\n",
       "object_id          -0.669899      -0.057409       -0.017225   \n",
       "ra                 -0.033685      -0.007056       -0.001598   \n",
       "decl               -0.081657      -0.013626       -0.011385   \n",
       "gal_l               0.192074       0.011569       -0.010038   \n",
       "gal_b              -0.227252      -0.092992       -0.081450   \n",
       "ddf                 1.000000       0.086603        0.042447   \n",
       "hostgal_specz       0.086603       1.000000        0.550373   \n",
       "hostgal_photoz      0.042447       0.550373        1.000000   \n",
       "hostgal_photoz_err  0.027191       0.106962        0.491055   \n",
       "distmod             0.082416       0.583446        0.867516   \n",
       "mwebv              -0.267189      -0.146782       -0.112734   \n",
       "target              0.181522       0.412562        0.244450   \n",
       "\n",
       "                    hostgal_photoz_err   distmod     mwebv    target  \n",
       "object_id                    -0.018940 -0.042652  0.171717 -0.122899  \n",
       "ra                           -0.012703 -0.000518  0.028959 -0.014805  \n",
       "decl                         -0.020795 -0.016917 -0.000572 -0.018324  \n",
       "gal_l                         0.003269  0.022230 -0.046744  0.025688  \n",
       "gal_b                        -0.054421 -0.031091  0.233316 -0.119809  \n",
       "ddf                           0.027191  0.082416 -0.267189  0.181522  \n",
       "hostgal_specz                 0.106962  0.583446 -0.146782  0.412562  \n",
       "hostgal_photoz                0.491055  0.867516 -0.112734  0.244450  \n",
       "hostgal_photoz_err            1.000000  0.306534 -0.084931  0.110821  \n",
       "distmod                       0.306534  1.000000 -0.062727  0.274068  \n",
       "mwebv                        -0.084931 -0.062727  1.000000 -0.174853  \n",
       "target                        0.110821  0.274068 -0.174853  1.000000  "
      ]
     },
     "execution_count": 155,
     "metadata": {},
     "output_type": "execute_result"
    }
   ],
   "source": [
    "train_meta.corr()"
   ]
  },
  {
   "cell_type": "code",
   "execution_count": 156,
   "metadata": {},
   "outputs": [
    {
     "name": "stdout",
     "output_type": "stream",
     "text": [
      "<class 'pandas.core.frame.DataFrame'>\n",
      "RangeIndex: 7848 entries, 0 to 7847\n",
      "Data columns (total 12 columns):\n",
      "object_id             7848 non-null int64\n",
      "ra                    7848 non-null float64\n",
      "decl                  7848 non-null float64\n",
      "gal_l                 7848 non-null float64\n",
      "gal_b                 7848 non-null float64\n",
      "ddf                   7848 non-null int64\n",
      "hostgal_specz         7848 non-null float64\n",
      "hostgal_photoz        7848 non-null float64\n",
      "hostgal_photoz_err    7848 non-null float64\n",
      "distmod               5523 non-null float64\n",
      "mwebv                 7848 non-null float64\n",
      "target                7848 non-null int64\n",
      "dtypes: float64(9), int64(3)\n",
      "memory usage: 735.9 KB\n"
     ]
    }
   ],
   "source": [
    "train_meta.info()"
   ]
  },
  {
   "cell_type": "code",
   "execution_count": 157,
   "metadata": {},
   "outputs": [],
   "source": [
    "# train_meta.describe(include=['O'])\n",
    "# (there are no categorical attributes)"
   ]
  },
  {
   "cell_type": "markdown",
   "metadata": {},
   "source": [
    "### q: how many nulls?"
   ]
  },
  {
   "cell_type": "code",
   "execution_count": 158,
   "metadata": {},
   "outputs": [
    {
     "data": {
      "text/plain": [
       "object_id                0\n",
       "ra                       0\n",
       "decl                     0\n",
       "gal_l                    0\n",
       "gal_b                    0\n",
       "ddf                      0\n",
       "hostgal_specz            0\n",
       "hostgal_photoz           0\n",
       "hostgal_photoz_err       0\n",
       "distmod               2325\n",
       "mwebv                    0\n",
       "target                   0\n",
       "dtype: int64"
      ]
     },
     "execution_count": 158,
     "metadata": {},
     "output_type": "execute_result"
    }
   ],
   "source": [
    "train_meta.isnull().sum()"
   ]
  },
  {
   "cell_type": "markdown",
   "metadata": {},
   "source": [
    "### distmot is distance computed from spec-z and photo-z\n",
    "* a good number of \"distmod\" are NaN\n",
    "* Question- is \"distmod=NaN\" the result when both \"specz\" and \"photoz\" are zero?"
   ]
  },
  {
   "cell_type": "markdown",
   "metadata": {},
   "source": [
    "### here we will use pandas \"boolean selection\"\n",
    "* *find all entries with spez=0*\n",
    "* *find all entries with both spez and photoz=0*\n",
    "* *find all entries with distmod=NaN*"
   ]
  },
  {
   "cell_type": "code",
   "execution_count": 166,
   "metadata": {},
   "outputs": [
    {
     "name": "stdout",
     "output_type": "stream",
     "text": [
      "(7848, 12)\n",
      "(2313, 12)\n"
     ]
    }
   ],
   "source": [
    "criteria = train_meta[\"target\"] == 90\n",
    "#print(criteria)\n",
    "train_meta_with_target_90 = train_meta[criteria]\n",
    "#print(train_meta_with_target_90)\n",
    "print(train_meta.shape)\n",
    "print(train_meta_with_target_90.shape)"
   ]
  },
  {
   "cell_type": "code",
   "execution_count": 169,
   "metadata": {},
   "outputs": [
    {
     "name": "stdout",
     "output_type": "stream",
     "text": [
      "(239, 12)\n",
      "(370, 12)\n",
      "(1193, 12)\n",
      "(2313, 12)\n",
      "(981, 12)\n",
      "(924, 12)\n",
      "(208, 12)\n",
      "(175, 12)\n",
      "(484, 12)\n",
      "(495, 12)\n",
      "(183, 12)\n",
      "(151, 12)\n",
      "(102, 12)\n",
      "(30, 12)\n"
     ]
    }
   ],
   "source": [
    "print(train_meta[train_meta[\"target\"]==92].shape)\n",
    "print(train_meta[train_meta[\"target\"]==88].shape)\n",
    "print(train_meta[train_meta[\"target\"]==42].shape)\n",
    "print(train_meta[train_meta[\"target\"]==90].shape)\n",
    "print(train_meta[train_meta[\"target\"]==65].shape)\n",
    "print(train_meta[train_meta[\"target\"]==16].shape)\n",
    "print(train_meta[train_meta[\"target\"]==67].shape)\n",
    "print(train_meta[train_meta[\"target\"]==95].shape)\n",
    "print(train_meta[train_meta[\"target\"]==62].shape)\n",
    "print(train_meta[train_meta[\"target\"]==15].shape)\n",
    "print(train_meta[train_meta[\"target\"]==52].shape)\n",
    "print(train_meta[train_meta[\"target\"]==6].shape)\n",
    "print(train_meta[train_meta[\"target\"]==64].shape)\n",
    "print(train_meta[train_meta[\"target\"]==53].shape)\n"
   ]
  },
  {
   "cell_type": "markdown",
   "metadata": {},
   "source": [
    "# so there are between 30 and 2313 examples of each class in the training set\n",
    "### this is a very small number of examples\n",
    "* *subject to over-training*\n",
    "* *several competitors added noise to the data to avoid over-training*\n",
    "* *maybe another approach would be to use instance-based learning?*"
   ]
  },
  {
   "cell_type": "markdown",
   "metadata": {},
   "source": [
    "# getting back to the question of \"distmod\"..."
   ]
  },
  {
   "cell_type": "code",
   "execution_count": 216,
   "metadata": {},
   "outputs": [
    {
     "name": "stdout",
     "output_type": "stream",
     "text": [
      "(7848, 12)\n",
      "(2325, 12)\n",
      "(0, 12)\n",
      "(0, 12)\n"
     ]
    }
   ],
   "source": [
    "# Q: how many distmod are NaN?\n",
    "# Q: which spez are zero?\n",
    "# Q: which photoz are zero?\n",
    "# Q: Of the samples with distmod NaN - which ones have non-zero spez?\n",
    "# Q: Of the samples with distmod NaN - which ones have non-zero photoz?\n",
    "import math\n",
    "criteria_1 = train_meta[\"distmod\"].isna()\n",
    "criteria_2 = train_meta[\"hostgal_specz\"] == 0\n",
    "criteria_3 = train_meta[\"hostgal_photoz\"] == 0\n",
    "\n",
    "criteria_1_and_not_2 = criteria_1 & ~criteria_2\n",
    "criteria_1_and_not_3 = criteria_1 & ~criteria_3\n",
    "\n",
    "result_1 = train_meta[criteria_1]\n",
    "result_2 = train_meta[criteria_1_and_not_2]\n",
    "result_3 = train_meta[criteria_1_and_not_3]\n",
    "\n",
    "print(train_meta.shape)\n",
    "print(result_1.shape)\n",
    "print(result_2.shape)\n",
    "print(result_3.shape)\n",
    "\n",
    "# in summary - a distmod of \"NaN\" is always associated with BOTH \"z\" values of zero\n",
    "# we would want to re-verify this on the test dataset..."
   ]
  },
  {
   "cell_type": "markdown",
   "metadata": {},
   "source": [
    "### *there is more in the tutorial...*\n",
    "* *isin, isnull, operations on a Series, between, combining row and column selection, boolean selection of columnns*\n",
    "* *column-to-column comparison*\n",
    "\n"
   ]
  },
  {
   "cell_type": "markdown",
   "metadata": {},
   "source": [
    "### and *avoid chained indexing!*\n",
    "* NO\n",
    "\n",
    "`df[df['age'] > 10]['score'] = 99`\n",
    "* YES\n",
    "\n",
    "`df.loc[df['age'] > 10, 'score'] = 99`\n"
   ]
  },
  {
   "cell_type": "code",
   "execution_count": 219,
   "metadata": {},
   "outputs": [
    {
     "name": "stdout",
     "output_type": "stream",
     "text": [
      "[99, 1, 2, 3]\n",
      "[99, 1, 2, 3]\n",
      "2340798712584\n",
      "2340798712584\n"
     ]
    }
   ],
   "source": [
    "# example of shallow copy!\n",
    "a1 = [0, 1, 2, 3]\n",
    "b1 = a1\n",
    "b1[0] = 99\n",
    "print(b1)\n",
    "print(a1)\n",
    "print(id(a1))\n",
    "print(id(b1))"
   ]
  },
  {
   "cell_type": "code",
   "execution_count": 224,
   "metadata": {},
   "outputs": [
    {
     "name": "stdout",
     "output_type": "stream",
     "text": [
      "[99, 1, 2, 3]\n",
      "[0, 1, 2, 3]\n",
      "2340797790472\n",
      "2340798769992\n"
     ]
    }
   ],
   "source": [
    "# deep copy\n",
    "import copy\n",
    "a1 = [0, 1, 2, 3]\n",
    "b1 = copy.deepcopy(a1)\n",
    "b1[0] = 99\n",
    "print(b1)\n",
    "print(a1)\n",
    "print(id(a1))\n",
    "print(id(b1))"
   ]
  },
  {
   "cell_type": "markdown",
   "metadata": {},
   "source": [
    "# moving on to the time sample data\n",
    "https://www.kaggle.com/michaelapers/the-plasticc-astronomy-starter-kit#2.-A-Primer-on-the-Dataset---Light-Curves"
   ]
  },
  {
   "cell_type": "markdown",
   "metadata": {},
   "source": [
    "* object_id = the object id\n",
    "* mjd = date of the sample\n",
    "* passband = the frequency band used at the time of the sample\n",
    "* flux = overall brightness\n",
    "* flux_err = flux error\n",
    "* detected = indicates the \"template\" technique is used to detect the object\n"
   ]
  },
  {
   "cell_type": "code",
   "execution_count": 225,
   "metadata": {},
   "outputs": [
    {
     "data": {
      "text/html": [
       "<div>\n",
       "<style scoped>\n",
       "    .dataframe tbody tr th:only-of-type {\n",
       "        vertical-align: middle;\n",
       "    }\n",
       "\n",
       "    .dataframe tbody tr th {\n",
       "        vertical-align: top;\n",
       "    }\n",
       "\n",
       "    .dataframe thead th {\n",
       "        text-align: right;\n",
       "    }\n",
       "</style>\n",
       "<table border=\"1\" class=\"dataframe\">\n",
       "  <thead>\n",
       "    <tr style=\"text-align: right;\">\n",
       "      <th></th>\n",
       "      <th>object_id</th>\n",
       "      <th>mjd</th>\n",
       "      <th>passband</th>\n",
       "      <th>flux</th>\n",
       "      <th>flux_err</th>\n",
       "      <th>detected</th>\n",
       "    </tr>\n",
       "  </thead>\n",
       "  <tbody>\n",
       "    <tr>\n",
       "      <td>0</td>\n",
       "      <td>615</td>\n",
       "      <td>59750.4229</td>\n",
       "      <td>2</td>\n",
       "      <td>-544.810303</td>\n",
       "      <td>3.622952</td>\n",
       "      <td>1</td>\n",
       "    </tr>\n",
       "    <tr>\n",
       "      <td>1</td>\n",
       "      <td>615</td>\n",
       "      <td>59750.4306</td>\n",
       "      <td>1</td>\n",
       "      <td>-816.434326</td>\n",
       "      <td>5.553370</td>\n",
       "      <td>1</td>\n",
       "    </tr>\n",
       "    <tr>\n",
       "      <td>2</td>\n",
       "      <td>615</td>\n",
       "      <td>59750.4383</td>\n",
       "      <td>3</td>\n",
       "      <td>-471.385529</td>\n",
       "      <td>3.801213</td>\n",
       "      <td>1</td>\n",
       "    </tr>\n",
       "    <tr>\n",
       "      <td>3</td>\n",
       "      <td>615</td>\n",
       "      <td>59750.4450</td>\n",
       "      <td>4</td>\n",
       "      <td>-388.984985</td>\n",
       "      <td>11.395031</td>\n",
       "      <td>1</td>\n",
       "    </tr>\n",
       "    <tr>\n",
       "      <td>4</td>\n",
       "      <td>615</td>\n",
       "      <td>59752.4070</td>\n",
       "      <td>2</td>\n",
       "      <td>-681.858887</td>\n",
       "      <td>4.041204</td>\n",
       "      <td>1</td>\n",
       "    </tr>\n",
       "  </tbody>\n",
       "</table>\n",
       "</div>"
      ],
      "text/plain": [
       "   object_id         mjd  passband        flux   flux_err  detected\n",
       "0        615  59750.4229         2 -544.810303   3.622952         1\n",
       "1        615  59750.4306         1 -816.434326   5.553370         1\n",
       "2        615  59750.4383         3 -471.385529   3.801213         1\n",
       "3        615  59750.4450         4 -388.984985  11.395031         1\n",
       "4        615  59752.4070         2 -681.858887   4.041204         1"
      ]
     },
     "execution_count": 225,
     "metadata": {},
     "output_type": "execute_result"
    }
   ],
   "source": [
    "train.head()"
   ]
  },
  {
   "cell_type": "code",
   "execution_count": 226,
   "metadata": {},
   "outputs": [
    {
     "name": "stdout",
     "output_type": "stream",
     "text": [
      "<class 'pandas.core.frame.DataFrame'>\n",
      "RangeIndex: 1421705 entries, 0 to 1421704\n",
      "Data columns (total 6 columns):\n",
      "object_id    1421705 non-null int32\n",
      "mjd          1421705 non-null float64\n",
      "passband     1421705 non-null int8\n",
      "flux         1421705 non-null float32\n",
      "flux_err     1421705 non-null float32\n",
      "detected     1421705 non-null int8\n",
      "dtypes: float32(2), float64(1), int32(1), int8(2)\n",
      "memory usage: 29.8 MB\n"
     ]
    }
   ],
   "source": [
    "train.info()"
   ]
  },
  {
   "cell_type": "code",
   "execution_count": 37,
   "metadata": {},
   "outputs": [
    {
     "data": {
      "text/html": [
       "<div>\n",
       "<style scoped>\n",
       "    .dataframe tbody tr th:only-of-type {\n",
       "        vertical-align: middle;\n",
       "    }\n",
       "\n",
       "    .dataframe tbody tr th {\n",
       "        vertical-align: top;\n",
       "    }\n",
       "\n",
       "    .dataframe thead th {\n",
       "        text-align: right;\n",
       "    }\n",
       "</style>\n",
       "<table border=\"1\" class=\"dataframe\">\n",
       "  <thead>\n",
       "    <tr style=\"text-align: right;\">\n",
       "      <th></th>\n",
       "      <th>object_id</th>\n",
       "      <th>mjd</th>\n",
       "      <th>passband</th>\n",
       "      <th>flux</th>\n",
       "      <th>flux_err</th>\n",
       "      <th>detected</th>\n",
       "    </tr>\n",
       "  </thead>\n",
       "  <tbody>\n",
       "    <tr>\n",
       "      <td>count</td>\n",
       "      <td>1.421705e+06</td>\n",
       "      <td>1.421705e+06</td>\n",
       "      <td>1.421705e+06</td>\n",
       "      <td>1.421705e+06</td>\n",
       "      <td>1.421705e+06</td>\n",
       "      <td>1.421705e+06</td>\n",
       "    </tr>\n",
       "    <tr>\n",
       "      <td>mean</td>\n",
       "      <td>3.392608e+07</td>\n",
       "      <td>6.017921e+04</td>\n",
       "      <td>2.783108e+00</td>\n",
       "      <td>2.468856e+01</td>\n",
       "      <td>2.548932e+01</td>\n",
       "      <td>1.666168e-01</td>\n",
       "    </tr>\n",
       "    <tr>\n",
       "      <td>std</td>\n",
       "      <td>4.258439e+07</td>\n",
       "      <td>3.092379e+02</td>\n",
       "      <td>1.703946e+00</td>\n",
       "      <td>3.684506e+03</td>\n",
       "      <td>3.814491e+03</td>\n",
       "      <td>3.726336e-01</td>\n",
       "    </tr>\n",
       "    <tr>\n",
       "      <td>min</td>\n",
       "      <td>6.150000e+02</td>\n",
       "      <td>5.958003e+04</td>\n",
       "      <td>0.000000e+00</td>\n",
       "      <td>-1.149388e+06</td>\n",
       "      <td>4.637530e-01</td>\n",
       "      <td>0.000000e+00</td>\n",
       "    </tr>\n",
       "    <tr>\n",
       "      <td>25%</td>\n",
       "      <td>1.843400e+05</td>\n",
       "      <td>5.989905e+04</td>\n",
       "      <td>1.000000e+00</td>\n",
       "      <td>-2.789418e+00</td>\n",
       "      <td>2.118670e+00</td>\n",
       "      <td>0.000000e+00</td>\n",
       "    </tr>\n",
       "    <tr>\n",
       "      <td>50%</td>\n",
       "      <td>4.548783e+06</td>\n",
       "      <td>6.019331e+04</td>\n",
       "      <td>3.000000e+00</td>\n",
       "      <td>7.331990e-01</td>\n",
       "      <td>4.708105e+00</td>\n",
       "      <td>0.000000e+00</td>\n",
       "    </tr>\n",
       "    <tr>\n",
       "      <td>75%</td>\n",
       "      <td>6.796280e+07</td>\n",
       "      <td>6.048722e+04</td>\n",
       "      <td>4.000000e+00</td>\n",
       "      <td>8.830932e+00</td>\n",
       "      <td>1.297371e+01</td>\n",
       "      <td>0.000000e+00</td>\n",
       "    </tr>\n",
       "    <tr>\n",
       "      <td>max</td>\n",
       "      <td>1.307798e+08</td>\n",
       "      <td>6.067436e+04</td>\n",
       "      <td>5.000000e+00</td>\n",
       "      <td>2.432809e+06</td>\n",
       "      <td>2.234069e+06</td>\n",
       "      <td>1.000000e+00</td>\n",
       "    </tr>\n",
       "  </tbody>\n",
       "</table>\n",
       "</div>"
      ],
      "text/plain": [
       "          object_id           mjd      passband          flux      flux_err  \\\n",
       "count  1.421705e+06  1.421705e+06  1.421705e+06  1.421705e+06  1.421705e+06   \n",
       "mean   3.392608e+07  6.017921e+04  2.783108e+00  2.468856e+01  2.548932e+01   \n",
       "std    4.258439e+07  3.092379e+02  1.703946e+00  3.684506e+03  3.814491e+03   \n",
       "min    6.150000e+02  5.958003e+04  0.000000e+00 -1.149388e+06  4.637530e-01   \n",
       "25%    1.843400e+05  5.989905e+04  1.000000e+00 -2.789418e+00  2.118670e+00   \n",
       "50%    4.548783e+06  6.019331e+04  3.000000e+00  7.331990e-01  4.708105e+00   \n",
       "75%    6.796280e+07  6.048722e+04  4.000000e+00  8.830932e+00  1.297371e+01   \n",
       "max    1.307798e+08  6.067436e+04  5.000000e+00  2.432809e+06  2.234069e+06   \n",
       "\n",
       "           detected  \n",
       "count  1.421705e+06  \n",
       "mean   1.666168e-01  \n",
       "std    3.726336e-01  \n",
       "min    0.000000e+00  \n",
       "25%    0.000000e+00  \n",
       "50%    0.000000e+00  \n",
       "75%    0.000000e+00  \n",
       "max    1.000000e+00  "
      ]
     },
     "execution_count": 37,
     "metadata": {},
     "output_type": "execute_result"
    }
   ],
   "source": [
    "train.describe()"
   ]
  },
  {
   "cell_type": "markdown",
   "metadata": {},
   "source": [
    "#### above is worth reviewing...\n",
    "* there are about 1.4M samples in this (small subset) training set\n",
    "* date range is 59,000 to 61,000\n",
    "* 6 passbands (discrete) 0 to 5\n",
    "* flux     mean 25 std 3700   **(the STD seems high why so much?)***\n",
    "* flux_err mean 25 std 3800   ***(same question)***\n"
   ]
  },
  {
   "cell_type": "markdown",
   "metadata": {},
   "source": [
    "* I need a chart of flux...\n"
   ]
  },
  {
   "cell_type": "code",
   "execution_count": 39,
   "metadata": {},
   "outputs": [
    {
     "data": {
      "text/plain": [
       "object_id    0\n",
       "mjd          0\n",
       "passband     0\n",
       "flux         0\n",
       "flux_err     0\n",
       "detected     0\n",
       "dtype: int64"
      ]
     },
     "execution_count": 39,
     "metadata": {},
     "output_type": "execute_result"
    }
   ],
   "source": [
    "train.isnull().sum()"
   ]
  },
  {
   "cell_type": "markdown",
   "metadata": {},
   "source": [
    "# next... \"Exploring the Light Curves\"\n",
    "https://www.kaggle.com/michaelapers/the-plasticc-astronomy-starter-kit#3.-Exploring-the-Light-Curves"
   ]
  },
  {
   "cell_type": "code",
   "execution_count": 227,
   "metadata": {
    "scrolled": false
   },
   "outputs": [],
   "source": [
    "import os\n",
    "import numpy as np\n",
    "import scipy.stats as spstat\n",
    "import matplotlib.pyplot as plt\n",
    "from collections import OrderedDict\n",
    "\n",
    "from astropy.table import Table\n",
    "\n",
    "\n",
    "%matplotlib inline"
   ]
  },
  {
   "cell_type": "code",
   "execution_count": 228,
   "metadata": {},
   "outputs": [],
   "source": [
    "class LightCurve(object):\n",
    "    '''Light curve object for PLAsTiCC formatted data'''\n",
    "    \n",
    "    _passbands = OrderedDict([(0,'C4'),\\\n",
    "                              (1,'C2'),\\\n",
    "                              (2,'C3'),\\\n",
    "                              (3,'C1'),\\\n",
    "                              (4,'k'),\\\n",
    "                              (5,'C5')])\n",
    "    \n",
    "    _pbnames = ['u','g','r','i','z','y']\n",
    "    \n",
    "    def __init__(self, filename):\n",
    "        '''Read in light curve data'''\n",
    "\n",
    "        self.DFlc     = Table.read(filename, format='ascii.csv')\n",
    "        self.filename = filename.replace('.csv','')\n",
    "        self._finalize()\n",
    "     \n",
    "    # this is some simple code to demonstrate how to calculate features on these multiband light curves\n",
    "    # we're not suggesting using these features specifically\n",
    "    # there also might be additional pre-processing you do before computing anything\n",
    "    # it's purely for illustration\n",
    "    def _finalize(self):\n",
    "        '''Store individual passband fluxes as object attributes'''\n",
    "        # in this example, we'll use the weighted mean to normalize the features\n",
    "        weighted_mean = lambda flux, dflux: np.sum(flux*(flux/dflux)**2)/np.sum((flux/dflux)**2)\n",
    "        \n",
    "        # define some functions to compute simple descriptive statistics\n",
    "        normalized_flux_std = lambda flux, wMeanFlux: np.std(flux/wMeanFlux, ddof = 1)\n",
    "        normalized_amplitude = lambda flux, wMeanFlux: (np.max(flux) - np.min(flux))/wMeanFlux\n",
    "        normalized_MAD = lambda flux, wMeanFlux: np.median(np.abs((flux - np.median(flux))/wMeanFlux))\n",
    "        beyond_1std = lambda flux, wMeanFlux: sum(np.abs(flux - wMeanFlux) > np.std(flux, ddof = 1))/len(flux)\n",
    "        \n",
    "        for pb in self._passbands:\n",
    "            ind = self.DFlc['passband'] == pb\n",
    "            pbname = self._pbnames[pb]\n",
    "            \n",
    "            if len(self.DFlc[ind]) == 0:\n",
    "                setattr(self, f'{pbname}Std', np.nan)\n",
    "                setattr(self, f'{pbname}Amp', np.nan)\n",
    "                setattr(self, f'{pbname}MAD', np.nan)\n",
    "                setattr(self, f'{pbname}Beyond', np.nan)\n",
    "                setattr(self, f'{pbname}Skew', np.nan)\n",
    "                continue\n",
    "            \n",
    "            f  = self.DFlc['flux'][ind]\n",
    "            df = self.DFlc['flux_err'][ind]\n",
    "            m  = weighted_mean(f, df)\n",
    "            \n",
    "            # we'll save the measurements in each passband to simplify access.\n",
    "            setattr(self, f'{pbname}Flux', f)\n",
    "            setattr(self, f'{pbname}FluxUnc', df)\n",
    "            setattr(self, f'{pbname}Mean', m)\n",
    "            \n",
    "            # compute the features\n",
    "            std = normalized_flux_std(f, df)\n",
    "            amp = normalized_amplitude(f, m)\n",
    "            mad = normalized_MAD(f, m)\n",
    "            beyond = beyond_1std(f, m)\n",
    "            skew = spstat.skew(f) \n",
    "            \n",
    "            # and save the features\n",
    "            setattr(self, f'{pbname}Std', std)\n",
    "            setattr(self, f'{pbname}Amp', amp)\n",
    "            setattr(self, f'{pbname}MAD', mad)\n",
    "            setattr(self, f'{pbname}Beyond', beyond)\n",
    "            setattr(self, f'{pbname}Skew', skew)\n",
    "        \n",
    "        # we can also construct features between passbands\n",
    "        pbs = list(self._passbands.keys())\n",
    "        for i, lpb in enumerate(pbs[0:-1]):\n",
    "            rpb = pbs[i+1]\n",
    "            \n",
    "            lpbname = self._pbnames[lpb]\n",
    "            rpbname = self._pbnames[rpb]\n",
    "            \n",
    "            colname = '{}Minus{}'.format(lpbname, rpbname.upper())\n",
    "            lMean = getattr(self, f'{lpbname}Mean', np.nan)\n",
    "            rMean = getattr(self, f'{rpbname}Mean', np.nan)\n",
    "            col = -2.5*np.log10(lMean/rMean) if lMean> 0 and rMean > 0 else -999\n",
    "            setattr(self, colname, col)\n",
    "    \n",
    "    # this is a simple routine to visualize a light curve\n",
    "    # it can plot vs the MJD array of the light curve\n",
    "    # or vs an optional `phase` array that you pass \n",
    "    def plot_multicolor_lc(self, phase=None):\n",
    "        '''Plot the multiband light curve'''\n",
    "\n",
    "        fig, ax = plt.subplots(figsize=(8,6))\n",
    "\n",
    "        \n",
    "        if phase is None:\n",
    "            phase = []\n",
    "        if len(phase) != len(self.DFlc):\n",
    "            phase = self.DFlc['mjd']\n",
    "            xlabel = 'MJD'\n",
    "        else:\n",
    "            xlabel = 'Phase'\n",
    "            \n",
    "        for i, pb in enumerate(self._passbands):\n",
    "            pbname = self._pbnames[pb]\n",
    "            ind = self.DFlc['passband'] == pb\n",
    "            if len(self.DFlc[ind]) == 0:\n",
    "                continue\n",
    "            ax.errorbar(phase[ind], \n",
    "                     self.DFlc['flux'][ind],\n",
    "                     self.DFlc['flux_err'][ind],\n",
    "                     fmt = 'o', color = self._passbands[pb], label = f'{pbname}')\n",
    "        ax.legend(ncol = 4, frameon = True)\n",
    "        ax.set_xlabel(f'{xlabel}', fontsize='large')\n",
    "        ax.set_ylabel('Flux', fontsize='large')\n",
    "        fig.suptitle(self.filename, fontsize='x-large')\n",
    "        fig.tight_layout(rect=[0, 0, 1, 0.97])\n",
    "    \n",
    "    def get_features(self):\n",
    "        '''Return all the features for this object'''\n",
    "        variables = ['Std', 'Amp', 'MAD', 'Beyond', 'Skew']\n",
    "        feats = []\n",
    "        for i, pb in enumerate(self._passbands):\n",
    "            pbname = self._pbnames[pb]\n",
    "            feats += [getattr(self, f'{pbname}{x}', np.nan) for x in variables]\n",
    "        return feats"
   ]
  },
  {
   "cell_type": "code",
   "execution_count": 229,
   "metadata": {
    "scrolled": true
   },
   "outputs": [
    {
     "name": "stdout",
     "output_type": "stream",
     "text": [
      "C:\\Users\\Administrator\\Documents\\code_kaggle_plasticc\\kaggle_plasticc\\project\n"
     ]
    },
    {
     "data": {
      "image/png": "[encoded data removed]",
      "text/plain": [
       "<Figure size 576x432 with 1 Axes>"
      ]
     },
     "metadata": {
      "needs_background": "light"
     },
     "output_type": "display_data"
    }
   ],
   "source": [
    "import os\n",
    "print(os.getcwd())\n",
    "\n",
    "lc = LightCurve('../input/plasticc-astronomy-starter-kit-media/fake010.csv')\n",
    "\n",
    "lc.plot_multicolor_lc()"
   ]
  },
  {
   "cell_type": "markdown",
   "metadata": {},
   "source": [
    "# what the heck is above doing?\n",
    "* constructor takesin filename, opens/reads that, storing in DFlc (data-frame light curve)\n",
    "* it *appears to be* a subset of the timesample table for a single object ID #10\n"
   ]
  },
  {
   "cell_type": "code",
   "execution_count": 231,
   "metadata": {},
   "outputs": [
    {
     "data": {
      "text/html": [
       "<i>Table length=117</i>\n",
       "<table id=\"table2340797790984\" class=\"table-striped table-bordered table-condensed\">\n",
       "<thead><tr><th>object_id</th><th>mjd</th><th>passband</th><th>flux</th><th>flux_err</th><th>detected_bool</th></tr></thead>\n",
       "<thead><tr><th>int32</th><th>float64</th><th>int32</th><th>float64</th><th>float64</th><th>int32</th></tr></thead>\n",
       "<tr><td>10</td><td>56210.172</td><td>1</td><td>5.659</td><td>3.7</td><td>1</td></tr>\n",
       "<tr><td>10</td><td>56210.188</td><td>2</td><td>21.32</td><td>3.245</td><td>1</td></tr>\n",
       "<tr><td>10</td><td>56210.203</td><td>3</td><td>13.28</td><td>3.221</td><td>1</td></tr>\n",
       "<tr><td>10</td><td>56210.234</td><td>4</td><td>9.579</td><td>3.85</td><td>1</td></tr>\n",
       "<tr><td>10</td><td>56218.172</td><td>1</td><td>49.22</td><td>1.654</td><td>1</td></tr>\n",
       "<tr><td>10</td><td>56218.191</td><td>2</td><td>114.6</td><td>2.376</td><td>1</td></tr>\n",
       "<tr><td>10</td><td>56218.211</td><td>3</td><td>88.85</td><td>2.261</td><td>1</td></tr>\n",
       "<tr><td>10</td><td>56219.156</td><td>4</td><td>75.01</td><td>2.394</td><td>1</td></tr>\n",
       "<tr><td>10</td><td>56221.273</td><td>1</td><td>62.28</td><td>4.17</td><td>1</td></tr>\n",
       "<tr><td>10</td><td>56221.281</td><td>2</td><td>126.6</td><td>6.115</td><td>1</td></tr>\n",
       "<tr><td>...</td><td>...</td><td>...</td><td>...</td><td>...</td><td>...</td></tr>\n",
       "<tr><td>10</td><td>56318.109</td><td>3</td><td>24.8</td><td>2.825</td><td>1</td></tr>\n",
       "<tr><td>10</td><td>56318.141</td><td>4</td><td>21.88</td><td>3.006</td><td>1</td></tr>\n",
       "<tr><td>10</td><td>56321.09</td><td>1</td><td>2.743</td><td>6.631</td><td>1</td></tr>\n",
       "<tr><td>10</td><td>56321.098</td><td>2</td><td>10.24</td><td>2.903</td><td>1</td></tr>\n",
       "<tr><td>10</td><td>56321.109</td><td>3</td><td>23.41</td><td>3.438</td><td>1</td></tr>\n",
       "<tr><td>10</td><td>56321.141</td><td>4</td><td>28.58</td><td>3.008</td><td>1</td></tr>\n",
       "<tr><td>10</td><td>56332.039</td><td>1</td><td>2.939</td><td>1.467</td><td>1</td></tr>\n",
       "<tr><td>10</td><td>56332.051</td><td>2</td><td>14.87</td><td>1.025</td><td>1</td></tr>\n",
       "<tr><td>10</td><td>56332.07</td><td>3</td><td>23.66</td><td>1.653</td><td>1</td></tr>\n",
       "<tr><td>10</td><td>56332.094</td><td>4</td><td>26.18</td><td>2.626</td><td>1</td></tr>\n",
       "</table>"
      ],
      "text/plain": [
       "<Table length=117>\n",
       "object_id    mjd    passband   flux  flux_err detected_bool\n",
       "  int32    float64   int32   float64 float64      int32    \n",
       "--------- --------- -------- ------- -------- -------------\n",
       "       10 56210.172        1   5.659      3.7             1\n",
       "       10 56210.188        2   21.32    3.245             1\n",
       "       10 56210.203        3   13.28    3.221             1\n",
       "       10 56210.234        4   9.579     3.85             1\n",
       "       10 56218.172        1   49.22    1.654             1\n",
       "       10 56218.191        2   114.6    2.376             1\n",
       "       10 56218.211        3   88.85    2.261             1\n",
       "       10 56219.156        4   75.01    2.394             1\n",
       "       10 56221.273        1   62.28     4.17             1\n",
       "       10 56221.281        2   126.6    6.115             1\n",
       "      ...       ...      ...     ...      ...           ...\n",
       "       10 56318.109        3    24.8    2.825             1\n",
       "       10 56318.141        4   21.88    3.006             1\n",
       "       10  56321.09        1   2.743    6.631             1\n",
       "       10 56321.098        2   10.24    2.903             1\n",
       "       10 56321.109        3   23.41    3.438             1\n",
       "       10 56321.141        4   28.58    3.008             1\n",
       "       10 56332.039        1   2.939    1.467             1\n",
       "       10 56332.051        2   14.87    1.025             1\n",
       "       10  56332.07        3   23.66    1.653             1\n",
       "       10 56332.094        4   26.18    2.626             1"
      ]
     },
     "execution_count": 231,
     "metadata": {},
     "output_type": "execute_result"
    }
   ],
   "source": [
    "lc.DFlc"
   ]
  },
  {
   "cell_type": "code",
   "execution_count": 239,
   "metadata": {},
   "outputs": [],
   "source": [
    "# lets see if we can reproduce it...\n",
    "# (sadly object \"10\" is not in the training set - lets use 615...)\n",
    "criteria = train[\"object_id\"] == 615\n",
    "result = train[criteria]\n"
   ]
  },
  {
   "cell_type": "code",
   "execution_count": 240,
   "metadata": {},
   "outputs": [],
   "source": [
    "class MyLightCurve(object):\n",
    "    '''Light curve object for PLAsTiCC formatted data'''\n",
    "    \n",
    "    _passbands = OrderedDict([(0,'C4'),\\\n",
    "                              (1,'C2'),\\\n",
    "                              (2,'C3'),\\\n",
    "                              (3,'C1'),\\\n",
    "                              (4,'k'),\\\n",
    "                              (5,'C5')])\n",
    "    \n",
    "    _pbnames = ['u','g','r','i','z','y']\n",
    "    \n",
    "    def __init__(self, dataframe):\n",
    "        '''Read in light curve data'''\n",
    "\n",
    "        self.DFlc     = dataframe\n",
    "        self.filename = 'n/a'\n",
    "        self._finalize()\n",
    "     \n",
    "    # this is some simple code to demonstrate how to calculate features on these multiband light curves\n",
    "    # we're not suggesting using these features specifically\n",
    "    # there also might be additional pre-processing you do before computing anything\n",
    "    # it's purely for illustration\n",
    "    def _finalize(self):\n",
    "        '''Store individual passband fluxes as object attributes'''\n",
    "        # in this example, we'll use the weighted mean to normalize the features\n",
    "        weighted_mean = lambda flux, dflux: np.sum(flux*(flux/dflux)**2)/np.sum((flux/dflux)**2)\n",
    "        \n",
    "        # define some functions to compute simple descriptive statistics\n",
    "        normalized_flux_std = lambda flux, wMeanFlux: np.std(flux/wMeanFlux, ddof = 1)\n",
    "        normalized_amplitude = lambda flux, wMeanFlux: (np.max(flux) - np.min(flux))/wMeanFlux\n",
    "        normalized_MAD = lambda flux, wMeanFlux: np.median(np.abs((flux - np.median(flux))/wMeanFlux))\n",
    "        beyond_1std = lambda flux, wMeanFlux: sum(np.abs(flux - wMeanFlux) > np.std(flux, ddof = 1))/len(flux)\n",
    "        \n",
    "        for pb in self._passbands:\n",
    "            ind = self.DFlc['passband'] == pb\n",
    "            pbname = self._pbnames[pb]\n",
    "            \n",
    "            if len(self.DFlc[ind]) == 0:\n",
    "                setattr(self, f'{pbname}Std', np.nan)\n",
    "                setattr(self, f'{pbname}Amp', np.nan)\n",
    "                setattr(self, f'{pbname}MAD', np.nan)\n",
    "                setattr(self, f'{pbname}Beyond', np.nan)\n",
    "                setattr(self, f'{pbname}Skew', np.nan)\n",
    "                continue\n",
    "            \n",
    "            f  = self.DFlc['flux'][ind]\n",
    "            df = self.DFlc['flux_err'][ind]\n",
    "            m  = weighted_mean(f, df)\n",
    "            \n",
    "            # we'll save the measurements in each passband to simplify access.\n",
    "            setattr(self, f'{pbname}Flux', f)\n",
    "            setattr(self, f'{pbname}FluxUnc', df)\n",
    "            setattr(self, f'{pbname}Mean', m)\n",
    "            \n",
    "            # compute the features\n",
    "            std = normalized_flux_std(f, df)\n",
    "            amp = normalized_amplitude(f, m)\n",
    "            mad = normalized_MAD(f, m)\n",
    "            beyond = beyond_1std(f, m)\n",
    "            skew = spstat.skew(f) \n",
    "            \n",
    "            # and save the features\n",
    "            setattr(self, f'{pbname}Std', std)\n",
    "            setattr(self, f'{pbname}Amp', amp)\n",
    "            setattr(self, f'{pbname}MAD', mad)\n",
    "            setattr(self, f'{pbname}Beyond', beyond)\n",
    "            setattr(self, f'{pbname}Skew', skew)\n",
    "        \n",
    "        # we can also construct features between passbands\n",
    "        pbs = list(self._passbands.keys())\n",
    "        for i, lpb in enumerate(pbs[0:-1]):\n",
    "            rpb = pbs[i+1]\n",
    "            \n",
    "            lpbname = self._pbnames[lpb]\n",
    "            rpbname = self._pbnames[rpb]\n",
    "            \n",
    "            colname = '{}Minus{}'.format(lpbname, rpbname.upper())\n",
    "            lMean = getattr(self, f'{lpbname}Mean', np.nan)\n",
    "            rMean = getattr(self, f'{rpbname}Mean', np.nan)\n",
    "            col = -2.5*np.log10(lMean/rMean) if lMean> 0 and rMean > 0 else -999\n",
    "            setattr(self, colname, col)\n",
    "    \n",
    "    # this is a simple routine to visualize a light curve\n",
    "    # it can plot vs the MJD array of the light curve\n",
    "    # or vs an optional `phase` array that you pass \n",
    "    def plot_multicolor_lc(self, phase=None):\n",
    "        '''Plot the multiband light curve'''\n",
    "\n",
    "        fig, ax = plt.subplots(figsize=(8,6))\n",
    "\n",
    "        \n",
    "        if phase is None:\n",
    "            phase = []\n",
    "        if len(phase) != len(self.DFlc):\n",
    "            phase = self.DFlc['mjd']\n",
    "            xlabel = 'MJD'\n",
    "        else:\n",
    "            xlabel = 'Phase'\n",
    "            \n",
    "        for i, pb in enumerate(self._passbands):\n",
    "            pbname = self._pbnames[pb]\n",
    "            ind = self.DFlc['passband'] == pb\n",
    "            if len(self.DFlc[ind]) == 0:\n",
    "                continue\n",
    "            ax.errorbar(phase[ind], \n",
    "                     self.DFlc['flux'][ind],\n",
    "                     self.DFlc['flux_err'][ind],\n",
    "                     fmt = 'o', color = self._passbands[pb], label = f'{pbname}')\n",
    "        ax.legend(ncol = 4, frameon = True)\n",
    "        ax.set_xlabel(f'{xlabel}', fontsize='large')\n",
    "        ax.set_ylabel('Flux', fontsize='large')\n",
    "        fig.suptitle(self.filename, fontsize='x-large')\n",
    "        fig.tight_layout(rect=[0, 0, 1, 0.97])\n",
    "    \n",
    "    def get_features(self):\n",
    "        '''Return all the features for this object'''\n",
    "        variables = ['Std', 'Amp', 'MAD', 'Beyond', 'Skew']\n",
    "        feats = []\n",
    "        for i, pb in enumerate(self._passbands):\n",
    "            pbname = self._pbnames[pb]\n",
    "            feats += [getattr(self, f'{pbname}{x}', np.nan) for x in variables]\n",
    "        return feats"
   ]
  },
  {
   "cell_type": "code",
   "execution_count": 242,
   "metadata": {},
   "outputs": [
    {
     "data": {
      "image/png": "[encoded data removed]",
      "text/plain": [
       "<Figure size 576x432 with 1 Axes>"
      ]
     },
     "metadata": {
      "needs_background": "light"
     },
     "output_type": "display_data"
    }
   ],
   "source": [
    "criteria = train[\"object_id\"] == 615\n",
    "result = train[criteria]\n",
    "myLightCurve =  MyLightCurve(result)\n",
    "myLightCurve.plot_multicolor_lc()"
   ]
  },
  {
   "cell_type": "markdown",
   "metadata": {},
   "source": [
    "# Nice!"
   ]
  },
  {
   "cell_type": "markdown",
   "metadata": {},
   "source": [
    "# now I want one example of each of the 14 class\n",
    "recall..."
   ]
  },
  {
   "cell_type": "code",
   "execution_count": 243,
   "metadata": {},
   "outputs": [
    {
     "name": "stdout",
     "output_type": "stream",
     "text": [
      "(239, 12)\n",
      "(370, 12)\n",
      "(1193, 12)\n",
      "(2313, 12)\n",
      "(981, 12)\n",
      "(924, 12)\n",
      "(208, 12)\n",
      "(175, 12)\n",
      "(484, 12)\n",
      "(495, 12)\n",
      "(183, 12)\n",
      "(151, 12)\n",
      "(102, 12)\n",
      "(30, 12)\n"
     ]
    }
   ],
   "source": [
    "print(train_meta[train_meta[\"target\"]==92].shape)\n",
    "print(train_meta[train_meta[\"target\"]==88].shape)\n",
    "print(train_meta[train_meta[\"target\"]==42].shape)\n",
    "print(train_meta[train_meta[\"target\"]==90].shape)\n",
    "print(train_meta[train_meta[\"target\"]==65].shape)\n",
    "print(train_meta[train_meta[\"target\"]==16].shape)\n",
    "print(train_meta[train_meta[\"target\"]==67].shape)\n",
    "print(train_meta[train_meta[\"target\"]==95].shape)\n",
    "print(train_meta[train_meta[\"target\"]==62].shape)\n",
    "print(train_meta[train_meta[\"target\"]==15].shape)\n",
    "print(train_meta[train_meta[\"target\"]==52].shape)\n",
    "print(train_meta[train_meta[\"target\"]==6].shape)\n",
    "print(train_meta[train_meta[\"target\"]==64].shape)\n",
    "print(train_meta[train_meta[\"target\"]==53].shape)"
   ]
  },
  {
   "cell_type": "code",
   "execution_count": 281,
   "metadata": {},
   "outputs": [
    {
     "name": "stdout",
     "output_type": "stream",
     "text": [
      "92\n",
      "   object_id\n",
      "0        615\n"
     ]
    },
    {
     "data": {
      "text/html": [
       "<div>\n",
       "<style scoped>\n",
       "    .dataframe tbody tr th:only-of-type {\n",
       "        vertical-align: middle;\n",
       "    }\n",
       "\n",
       "    .dataframe tbody tr th {\n",
       "        vertical-align: top;\n",
       "    }\n",
       "\n",
       "    .dataframe thead th {\n",
       "        text-align: right;\n",
       "    }\n",
       "</style>\n",
       "<table border=\"1\" class=\"dataframe\">\n",
       "  <thead>\n",
       "    <tr style=\"text-align: right;\">\n",
       "      <th></th>\n",
       "      <th>object_id</th>\n",
       "      <th>ra</th>\n",
       "      <th>decl</th>\n",
       "      <th>gal_l</th>\n",
       "      <th>gal_b</th>\n",
       "      <th>ddf</th>\n",
       "      <th>hostgal_specz</th>\n",
       "      <th>hostgal_photoz</th>\n",
       "      <th>hostgal_photoz_err</th>\n",
       "      <th>distmod</th>\n",
       "      <th>mwebv</th>\n",
       "      <th>target</th>\n",
       "    </tr>\n",
       "  </thead>\n",
       "  <tbody>\n",
       "    <tr>\n",
       "      <td>0</td>\n",
       "      <td>615</td>\n",
       "      <td>349.046051</td>\n",
       "      <td>-61.943836</td>\n",
       "      <td>320.79653</td>\n",
       "      <td>-51.753706</td>\n",
       "      <td>1</td>\n",
       "      <td>0.0</td>\n",
       "      <td>0.0</td>\n",
       "      <td>0.0</td>\n",
       "      <td>NaN</td>\n",
       "      <td>0.017</td>\n",
       "      <td>92</td>\n",
       "    </tr>\n",
       "  </tbody>\n",
       "</table>\n",
       "</div>"
      ],
      "text/plain": [
       "   object_id          ra       decl      gal_l      gal_b  ddf  hostgal_specz  \\\n",
       "0        615  349.046051 -61.943836  320.79653 -51.753706    1            0.0   \n",
       "\n",
       "   hostgal_photoz  hostgal_photoz_err  distmod  mwebv  target  \n",
       "0             0.0                 0.0      NaN  0.017      92  "
      ]
     },
     "execution_count": 281,
     "metadata": {},
     "output_type": "execute_result"
    }
   ],
   "source": [
    "# What is the object_id of the first insance of each class?\n",
    "# class 92...\n",
    "id = 92\n",
    "result = train_meta[train_meta[\"target\"]==id]\n",
    "print(id)\n",
    "print(result.loc[[0],[\"object_id\"]])\n",
    "result.loc[[0]]"
   ]
  },
  {
   "cell_type": "code",
   "execution_count": 278,
   "metadata": {},
   "outputs": [],
   "source": [
    "# so...\n",
    "# 1) start with a list of class numbers pdSeries\n",
    "# create a data-frame with this as one of the columns\n",
    "# create a function that maps from class to object_id (using the code above, selecting the first instance)\n",
    "#\n",
    "# or just do it the slow way..."
   ]
  },
  {
   "cell_type": "code",
   "execution_count": 284,
   "metadata": {},
   "outputs": [
    {
     "name": "stdout",
     "output_type": "stream",
     "text": [
      "92\n",
      "   object_id\n",
      "0        615\n",
      "   object_id\n",
      "0        615\n"
     ]
    }
   ],
   "source": [
    "def print_it(id):\n",
    "    result = train_meta[train_meta[\"target\"]==id]\n",
    "    print(id)\n",
    "    print(result.loc[[0],[\"object_id\"]])\n",
    "\n",
    "print_it(92)\n",
    "88\n",
    "42\n",
    "90\n",
    "65\n",
    "16\n",
    "67\n",
    "95\n",
    "62\n",
    "15\n",
    "52\n",
    "6\n",
    "64\n",
    "53\n",
    "\n"
   ]
  },
  {
   "cell_type": "code",
   "execution_count": null,
   "metadata": {},
   "outputs": [],
   "source": []
  }
 ],
 "metadata": {
  "kernelspec": {
   "display_name": "Python 3",
   "language": "python",
   "name": "python3"
  },
  "language_info": {
   "codemirror_mode": {
    "name": "ipython",
    "version": 3
   },
   "file_extension": ".py",
   "mimetype": "text/x-python",
   "name": "python",
   "nbconvert_exporter": "python",
   "pygments_lexer": "ipython3",
   "version": "3.7.4"
  }
 },
 "nbformat": 4,
 "nbformat_minor": 2
}
