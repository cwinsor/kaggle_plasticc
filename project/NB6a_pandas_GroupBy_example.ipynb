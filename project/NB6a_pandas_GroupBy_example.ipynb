{
 "cells": [
  {
   "cell_type": "markdown",
   "metadata": {},
   "source": [
    "# Practice with pandas GroupBy class, and DataFrame.groupby()\n",
    "* reference (?)"
   ]
  },
  {
   "cell_type": "code",
   "execution_count": 1,
   "metadata": {},
   "outputs": [],
   "source": [
    "import pandas as pd"
   ]
  },
  {
   "cell_type": "code",
   "execution_count": 2,
   "metadata": {},
   "outputs": [
    {
     "data": {
      "text/html": [
       "<div>\n",
       "<style scoped>\n",
       "    .dataframe tbody tr th:only-of-type {\n",
       "        vertical-align: middle;\n",
       "    }\n",
       "\n",
       "    .dataframe tbody tr th {\n",
       "        vertical-align: top;\n",
       "    }\n",
       "\n",
       "    .dataframe thead th {\n",
       "        text-align: right;\n",
       "    }\n",
       "</style>\n",
       "<table border=\"1\" class=\"dataframe\">\n",
       "  <thead>\n",
       "    <tr style=\"text-align: right;\">\n",
       "      <th></th>\n",
       "      <th></th>\n",
       "      <th></th>\n",
       "      <th>Max Speed</th>\n",
       "      <th>Weight</th>\n",
       "      <th>Altitude</th>\n",
       "    </tr>\n",
       "    <tr>\n",
       "      <th>Animal</th>\n",
       "      <th>Captivity</th>\n",
       "      <th>Food</th>\n",
       "      <th></th>\n",
       "      <th></th>\n",
       "      <th></th>\n",
       "    </tr>\n",
       "  </thead>\n",
       "  <tbody>\n",
       "    <tr>\n",
       "      <td rowspan=\"2\" valign=\"top\">Falcon</td>\n",
       "      <td>Captive</td>\n",
       "      <td>Mice</td>\n",
       "      <td>390.0</td>\n",
       "      <td>14.0</td>\n",
       "      <td>110.0</td>\n",
       "    </tr>\n",
       "    <tr>\n",
       "      <td>Wild</td>\n",
       "      <td>Corn</td>\n",
       "      <td>350.0</td>\n",
       "      <td>13.0</td>\n",
       "      <td>130.0</td>\n",
       "    </tr>\n",
       "    <tr>\n",
       "      <td rowspan=\"2\" valign=\"top\">Parrot</td>\n",
       "      <td>Captive</td>\n",
       "      <td>Corn</td>\n",
       "      <td>30.0</td>\n",
       "      <td>8.0</td>\n",
       "      <td>40.0</td>\n",
       "    </tr>\n",
       "    <tr>\n",
       "      <td>Wild</td>\n",
       "      <td>Worms</td>\n",
       "      <td>20.0</td>\n",
       "      <td>5.0</td>\n",
       "      <td>60.0</td>\n",
       "    </tr>\n",
       "    <tr>\n",
       "      <td>Falcon</td>\n",
       "      <td>Wild</td>\n",
       "      <td>Mice</td>\n",
       "      <td>320.0</td>\n",
       "      <td>15.0</td>\n",
       "      <td>100.0</td>\n",
       "    </tr>\n",
       "    <tr>\n",
       "      <td rowspan=\"2\" valign=\"top\">Parrot</td>\n",
       "      <td>Captive</td>\n",
       "      <td>Worms</td>\n",
       "      <td>40.0</td>\n",
       "      <td>6.0</td>\n",
       "      <td>30.0</td>\n",
       "    </tr>\n",
       "    <tr>\n",
       "      <td>Wild</td>\n",
       "      <td>Worms</td>\n",
       "      <td>30.0</td>\n",
       "      <td>5.0</td>\n",
       "      <td>30.0</td>\n",
       "    </tr>\n",
       "  </tbody>\n",
       "</table>\n",
       "</div>"
      ],
      "text/plain": [
       "                        Max Speed  Weight  Altitude\n",
       "Animal Captivity Food                              \n",
       "Falcon Captive   Mice       390.0    14.0     110.0\n",
       "       Wild      Corn       350.0    13.0     130.0\n",
       "Parrot Captive   Corn        30.0     8.0      40.0\n",
       "       Wild      Worms       20.0     5.0      60.0\n",
       "Falcon Wild      Mice       320.0    15.0     100.0\n",
       "Parrot Captive   Worms       40.0     6.0      30.0\n",
       "       Wild      Worms       30.0     5.0      30.0"
      ]
     },
     "execution_count": 2,
     "metadata": {},
     "output_type": "execute_result"
    }
   ],
   "source": [
    "arrays = [\n",
    "    ['Falcon',  'Falcon', 'Parrot',  'Parrot', 'Falcon', 'Parrot',  'Parrot',],\n",
    "    ['Captive', 'Wild',   'Captive', 'Wild',   'Wild',   'Captive', 'Wild'],\n",
    "    ['Mice',    'Corn',   'Corn',    'Worms',  'Mice',   'Worms',   'Worms']\n",
    "]\n",
    "index = pd.MultiIndex.from_arrays(arrays, names=('Animal', 'Captivity', 'Food'))\n",
    "df = pd.DataFrame({\n",
    "    'Max Speed': [390., 350., 30., 20., 320., 40., 30.],\n",
    "    'Weight':    [ 14.,  13.,  8.,  5.,  15.,  6.,  5.],\n",
    "    'Altitude':  [110., 130., 40., 60., 100., 30., 30.]\n",
    "    },index=index)\n",
    "df"
   ]
  },
  {
   "cell_type": "code",
   "execution_count": 3,
   "metadata": {},
   "outputs": [
    {
     "name": "stdout",
     "output_type": "stream",
     "text": [
      "<class 'pandas.core.frame.DataFrame'>\n",
      "<class 'pandas.core.groupby.generic.SeriesGroupBy'>\n"
     ]
    }
   ],
   "source": [
    "foo = df.groupby(['Captivity'])['Weight']\n",
    "print(type(df))\n",
    "print(type(foo))"
   ]
  },
  {
   "cell_type": "code",
   "execution_count": 4,
   "metadata": {},
   "outputs": [
    {
     "data": {
      "text/plain": [
       "Captivity\n",
       "Captive    9.333333\n",
       "Wild       9.500000\n",
       "Name: Weight, dtype: float64"
      ]
     },
     "execution_count": 4,
     "metadata": {},
     "output_type": "execute_result"
    }
   ],
   "source": [
    "# Q: What is the average Weight by \"Captivity\" [Captive, Wild]\n",
    "df.groupby(['Captivity'])['Weight'].mean()"
   ]
  },
  {
   "cell_type": "code",
   "execution_count": 5,
   "metadata": {},
   "outputs": [
    {
     "data": {
      "text/plain": [
       "Captivity  Animal\n",
       "Captive    Falcon    14.0\n",
       "           Parrot     7.0\n",
       "Wild       Falcon    14.0\n",
       "           Parrot     5.0\n",
       "Name: Weight, dtype: float64"
      ]
     },
     "execution_count": 5,
     "metadata": {},
     "output_type": "execute_result"
    }
   ],
   "source": [
    "# Q: What is the average Weight by \"Captivity\" and \"Anomal\"\n",
    "df.groupby(['Captivity','Animal'])['Weight'].mean()"
   ]
  },
  {
   "cell_type": "code",
   "execution_count": 6,
   "metadata": {},
   "outputs": [
    {
     "data": {
      "text/html": [
       "<div>\n",
       "<style scoped>\n",
       "    .dataframe tbody tr th:only-of-type {\n",
       "        vertical-align: middle;\n",
       "    }\n",
       "\n",
       "    .dataframe tbody tr th {\n",
       "        vertical-align: top;\n",
       "    }\n",
       "\n",
       "    .dataframe thead th {\n",
       "        text-align: right;\n",
       "    }\n",
       "</style>\n",
       "<table border=\"1\" class=\"dataframe\">\n",
       "  <thead>\n",
       "    <tr style=\"text-align: right;\">\n",
       "      <th></th>\n",
       "      <th></th>\n",
       "      <th>Max Speed</th>\n",
       "    </tr>\n",
       "    <tr>\n",
       "      <th>Weight</th>\n",
       "      <th>Altitude</th>\n",
       "      <th></th>\n",
       "    </tr>\n",
       "  </thead>\n",
       "  <tbody>\n",
       "    <tr>\n",
       "      <td rowspan=\"2\" valign=\"top\">5.0</td>\n",
       "      <td>30.0</td>\n",
       "      <td>30.0</td>\n",
       "    </tr>\n",
       "    <tr>\n",
       "      <td>60.0</td>\n",
       "      <td>20.0</td>\n",
       "    </tr>\n",
       "    <tr>\n",
       "      <td>6.0</td>\n",
       "      <td>30.0</td>\n",
       "      <td>40.0</td>\n",
       "    </tr>\n",
       "    <tr>\n",
       "      <td>8.0</td>\n",
       "      <td>40.0</td>\n",
       "      <td>30.0</td>\n",
       "    </tr>\n",
       "    <tr>\n",
       "      <td>13.0</td>\n",
       "      <td>130.0</td>\n",
       "      <td>350.0</td>\n",
       "    </tr>\n",
       "    <tr>\n",
       "      <td>14.0</td>\n",
       "      <td>110.0</td>\n",
       "      <td>390.0</td>\n",
       "    </tr>\n",
       "    <tr>\n",
       "      <td>15.0</td>\n",
       "      <td>100.0</td>\n",
       "      <td>320.0</td>\n",
       "    </tr>\n",
       "  </tbody>\n",
       "</table>\n",
       "</div>"
      ],
      "text/plain": [
       "                 Max Speed\n",
       "Weight Altitude           \n",
       "5.0    30.0           30.0\n",
       "       60.0           20.0\n",
       "6.0    30.0           40.0\n",
       "8.0    40.0           30.0\n",
       "13.0   130.0         350.0\n",
       "14.0   110.0         390.0\n",
       "15.0   100.0         320.0"
      ]
     },
     "execution_count": 6,
     "metadata": {},
     "output_type": "execute_result"
    }
   ],
   "source": [
    "df.groupby(['Weight','Altitude']).mean()"
   ]
  },
  {
   "cell_type": "code",
   "execution_count": 7,
   "metadata": {},
   "outputs": [
    {
     "data": {
      "text/plain": [
       "Animal  Captivity  Food \n",
       "Falcon  Captive    Mice     14.0\n",
       "        Wild       Corn     14.0\n",
       "Parrot  Captive    Corn      7.0\n",
       "        Wild       Worms     5.0\n",
       "Falcon  Wild       Mice     14.0\n",
       "Parrot  Captive    Worms     7.0\n",
       "        Wild       Worms     5.0\n",
       "Name: Weight, dtype: float64"
      ]
     },
     "execution_count": 7,
     "metadata": {},
     "output_type": "execute_result"
    }
   ],
   "source": [
    "# Q: how is \"transform('mean') different from mean() ?\n",
    "#df.groupby(['Type'])['Weight'].transform('mean')\n",
    "df.groupby(['Captivity','Animal'])['Weight'].transform('mean')\n"
   ]
  },
  {
   "cell_type": "code",
   "execution_count": 8,
   "metadata": {},
   "outputs": [
    {
     "data": {
      "text/plain": [
       "Animal  Captivity  Food \n",
       "Falcon  Captive    Mice     14.0\n",
       "        Wild       Corn     13.0\n",
       "Parrot  Captive    Corn      8.0\n",
       "        Wild       Worms     5.0\n",
       "Falcon  Wild       Mice     15.0\n",
       "Parrot  Captive    Worms     6.0\n",
       "        Wild       Worms     5.0\n",
       "Name: Weight, dtype: float64"
      ]
     },
     "execution_count": 8,
     "metadata": {},
     "output_type": "execute_result"
    }
   ],
   "source": [
    "df_mean = df.groupby(['Max Speed', 'Altitude'])['Weight'].transform('mean')\n",
    "df_mean"
   ]
  }
 ],
 "metadata": {
  "kernelspec": {
   "display_name": "Python 3",
   "language": "python",
   "name": "python3"
  },
  "language_info": {
   "codemirror_mode": {
    "name": "ipython",
    "version": 3
   },
   "file_extension": ".py",
   "mimetype": "text/x-python",
   "name": "python",
   "nbconvert_exporter": "python",
   "pygments_lexer": "ipython3",
   "version": "3.7.5rc1"
  }
 },
 "nbformat": 4,
 "nbformat_minor": 2
}
