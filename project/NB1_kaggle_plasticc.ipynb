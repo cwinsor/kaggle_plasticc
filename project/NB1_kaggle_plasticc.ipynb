{
 "cells": [
  {
   "cell_type": "markdown",
   "metadata": {},
   "source": [
    "# kaggle_plasticc\n",
    "\n",
    "This Jupyter Notebook explores the Kaggle PLAsTiCC dataset and competition. The competition and dataset can be found at https://www.kaggle.com/c/PLAsTiCC-2018 \n",
    "\n",
    "This notebook can be found at  https://github.com/cwinsor/kaggle_plasticc\n",
    "\n",
    "PLAsTiCC is the Kaggle competition for LSST (Large Synoptic Survey Telescope).  The telescope, under construction at a remote mountaintop in Peru, is designed to capture alltogether new data from the night skies. Specifically, LSST has the ability to capture the entire southern hemisphere every 4 nights in a manner that allows observation of single-occurrence events such as micro-lensing, novae, as well as periodic evnets such as eclipsing binaries. Aperiodic events are important because, for example, micro-lensing can be used to discover planets such as earth!\n",
    "\n",
    "One-time events are hard to catch - LSST will perform observation at a scale (quantity and resolution) that allows identifying many more such events.  Pretty cool stuff!\n"
   ]
  },
  {
   "cell_type": "markdown",
   "metadata": {},
   "source": [
    "The steps in my investigation of PLAsTiCC were:\n",
    "\n",
    "a) Review the \"starter Kit\"   https://www.kaggle.com/michaelapers/the-plasticc-astronomy-starter-kit\n",
    "b) Follow the example     https://www.kaggle.com/michaelapers/the-plasticc-astronomy-classification-demo \n",
    "\n",
    "The example starts by using the Cesium library to \"featurize\" the timeseries data\n",
    "\n",
    "So we take a dive into Cesium - library to \"featurize\" time-series data\n",
    "good example !\n",
    "http://cesium-ml.org/docs/auto_examples/plot_EEG_Example.html#sphx-glr-auto-examples-plot-eeg-example-py \n",
    "\n",
    "\n",
    "The example also references/uses a library to establish period of a repeating signal that is sampled infrequently\n",
    "<interesting stuff, and very useful>\n",
    "<need to revisit this>\n",
    "    \n",
    "The example then reduces the number of features and evaluates using correlation, PCA, Confusion Matrix\n",
    "<more work needed here>"
   ]
  },
  {
   "cell_type": "markdown",
   "metadata": {},
   "source": [
    "\n",
    "The Dataset:\n",
    "* The dataset has two parts\n",
    "* \"metadata\" - aka - red shift and color frequency bands for each item\n",
    "* \"luminescence\" - aka - the brightness for each item\n",
    "\n",
    "To simplify things:\n",
    "* Start with just <luminescence> - no metadata\n",
    "* Start with just \"galactic\" data (our galaxy)\n",
    "* Above will simplify things a lot\n",
    "    \n",
    "My plan is:\n",
    "1) Wrangle and get familiar with the data - a bit\n",
    "* For each of the (N) categorical data types - investigate ONE instance.\n",
    "* This is a single star in our our galaxy which we know is an \"XYZ\".\n",
    "* Investigate the properties and/or behavior of that star.\n",
    "* Confirm we know a little about each category and what their observable properties are.\n",
    "\n",
    "2) Investigate approaches taken by other Kagglers:\n",
    "* This may take some time - review \"top 100\" models - categorize as to what they were predicting, the approach taken.\n",
    "* Create a table.\n",
    "\n",
    "3) Investigate approaches taken by other Astronomers ....\n",
    "* \n"
   ]
  },
  {
   "cell_type": "code",
   "execution_count": null,
   "metadata": {},
   "outputs": [],
   "source": []
  },
  {
   "cell_type": "code",
   "execution_count": null,
   "metadata": {},
   "outputs": [],
   "source": []
  }
 ],
 "metadata": {
  "kernelspec": {
   "display_name": "Python 3",
   "language": "python",
   "name": "python3"
  },
  "language_info": {
   "codemirror_mode": {
    "name": "ipython",
    "version": 3
   },
   "file_extension": ".py",
   "mimetype": "text/x-python",
   "name": "python",
   "nbconvert_exporter": "python",
   "pygments_lexer": "ipython3",
   "version": "3.6.3"
  }
 },
 "nbformat": 4,
 "nbformat_minor": 2
}
