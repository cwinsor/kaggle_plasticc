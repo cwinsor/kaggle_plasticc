{
 "cells": [
  {
   "cell_type": "markdown",
   "metadata": {},
   "source": [
    "Following:\n",
    "https://machinelearningmastery.com/time-series-data-visualization-with-python/"
   ]
  },
  {
   "cell_type": "code",
   "execution_count": 24,
   "metadata": {},
   "outputs": [
    {
     "data": {
      "text/plain": [
       "-1"
      ]
     },
     "execution_count": 24,
     "metadata": {},
     "output_type": "execute_result"
    }
   ],
   "source": [
    "string1 = \"a hello world\"\n",
    "string2 = \"helloo\"\n",
    "string1.find(string2)"
   ]
  },
  {
   "cell_type": "code",
   "execution_count": 36,
   "metadata": {},
   "outputs": [],
   "source": [
    "import pandas as pd"
   ]
  },
  {
   "cell_type": "code",
   "execution_count": 115,
   "metadata": {},
   "outputs": [
    {
     "name": "stdout",
     "output_type": "stream",
     "text": [
      "290\n",
      "2639\n",
      "2929\n",
      "<class 'list'>\n",
      "08:08:27.503\n"
     ]
    }
   ],
   "source": [
    "filename = '2020-06-23_000008_GDSystem.log'\n",
    "filename = 'temp.log'\n",
    "filename = 'tempfile30.txt'\n",
    "\n",
    "#file = open(filename, mode = 'r', encoding = 'utf-8-sig')\n",
    "#file = open(filename, mode = 'r', encoding = 'latin-1')\n",
    "#file = open(filename, mode = 'r', encoding = 'utf-8')\n",
    "file = open(filename, mode = 'r', encoding = 'utf-16')\n",
    "#errors='ignore')\n",
    "\n",
    "lines = file.readlines()\n",
    "file.close()\n",
    "\n",
    "list_imager = []\n",
    "\n",
    "substring1 = 'Updated Cassette ID:'\n",
    "\n",
    "count = 0\n",
    "count_no = 0\n",
    "count_yes = 0\n",
    "for line in lines:\n",
    "    count += 1\n",
    "\n",
    "    if (line.find(substring1) >= 0):\n",
    "        count_yes += 1\n",
    "\n",
    "        line_split = line.split()\n",
    "        if line_split[-1] == 'IMAGER':\n",
    "            list_imager.append(line_split[1])\n",
    "\n",
    "    else:\n",
    "        #print(\"no\")\n",
    "        count_no += 1\n",
    "\n",
    "print(count_no)\n",
    "print(count_yes)\n",
    "print(count)\n",
    "print(type(list_imager))\n",
    "print(list_imager[0])"
   ]
  },
  {
   "cell_type": "code",
   "execution_count": 116,
   "metadata": {},
   "outputs": [
    {
     "ename": "ModuleNotFoundError",
     "evalue": "No module named 'astropy'",
     "output_type": "error",
     "traceback": [
      "\u001b[0;31m---------------------------------------------------------------------------\u001b[0m",
      "\u001b[0;31mModuleNotFoundError\u001b[0m                       Traceback (most recent call last)",
      "\u001b[0;32m<ipython-input-116-f3ef8f196d56>\u001b[0m in \u001b[0;36m<module>\u001b[0;34m\u001b[0m\n\u001b[1;32m      1\u001b[0m \u001b[0;32mimport\u001b[0m \u001b[0mnumpy\u001b[0m \u001b[0;32mas\u001b[0m \u001b[0mnp\u001b[0m\u001b[0;34m\u001b[0m\u001b[0;34m\u001b[0m\u001b[0m\n\u001b[0;32m----> 2\u001b[0;31m \u001b[0;32mfrom\u001b[0m \u001b[0mastropy\u001b[0m\u001b[0;34m.\u001b[0m\u001b[0mtime\u001b[0m \u001b[0;32mimport\u001b[0m \u001b[0mTime\u001b[0m\u001b[0;34m\u001b[0m\u001b[0;34m\u001b[0m\u001b[0m\n\u001b[0m\u001b[1;32m      3\u001b[0m \u001b[0mtimes\u001b[0m \u001b[0;34m=\u001b[0m \u001b[0;34m[\u001b[0m\u001b[0;34m'1999-01-01T00:00:00.123456789'\u001b[0m\u001b[0;34m,\u001b[0m \u001b[0;34m'2010-01-01T00:00:00'\u001b[0m\u001b[0;34m]\u001b[0m\u001b[0;34m\u001b[0m\u001b[0;34m\u001b[0m\u001b[0m\n\u001b[1;32m      4\u001b[0m \u001b[0mt\u001b[0m \u001b[0;34m=\u001b[0m \u001b[0mTime\u001b[0m\u001b[0;34m(\u001b[0m\u001b[0mlist_imager\u001b[0m\u001b[0;34m,\u001b[0m \u001b[0mformat\u001b[0m\u001b[0;34m=\u001b[0m\u001b[0;34m'isot'\u001b[0m\u001b[0;34m,\u001b[0m \u001b[0mscale\u001b[0m\u001b[0;34m=\u001b[0m\u001b[0;34m'utc'\u001b[0m\u001b[0;34m)\u001b[0m\u001b[0;34m\u001b[0m\u001b[0;34m\u001b[0m\u001b[0m\n\u001b[1;32m      5\u001b[0m \u001b[0mt\u001b[0m\u001b[0;34m\u001b[0m\u001b[0;34m\u001b[0m\u001b[0m\n",
      "\u001b[0;31mModuleNotFoundError\u001b[0m: No module named 'astropy'"
     ]
    }
   ],
   "source": [
    "import numpy as np\n",
    "from astropy.time import Time\n",
    "times = ['1999-01-01T00:00:00.123456789', '2010-01-01T00:00:00']\n",
    "t = Time(list_imager, format='isot', scale='utc')\n",
    "t"
   ]
  },
  {
   "cell_type": "code",
   "execution_count": 107,
   "metadata": {},
   "outputs": [],
   "source": [
    "df = pd.DataFrame(\n",
    "    columns=['imager1', 'imager2'],\n",
    "    data=zip(pd.to_numeric(pd.to_datetime(list_imager)),\n",
    "             pd.to_numeric(pd.to_datetime(list_imager))))\n",
    "\n",
    "#df = pd.DataFrame(\n",
    "#    columns=['imager1', 'imager2'],\n",
    "#    data=zip(pd.to_numeric(list_imager),\n",
    "#             pd.to_numeric(list_imager)))\n",
    "\n",
    "#df = pd.DataFrame(\n",
    "#    columns=['imager1', 'imager2'],\n",
    "#    data=zip(pd.to_datetime(list_imager),\n",
    "#             pd.to_datetime(list_imager)))\n",
    "\n",
    "#(list(zip(lst, lst2)), \n",
    " \n",
    "#df = pd.DataFrame(pd.to_datetime(list_imager))\n",
    "#ser = pd.Series(pd.to_datetime(list_imager))"
   ]
  },
  {
   "cell_type": "code",
   "execution_count": 108,
   "metadata": {},
   "outputs": [
    {
     "data": {
      "text/plain": [
       "imager1    int64\n",
       "imager2    int64\n",
       "dtype: object"
      ]
     },
     "execution_count": 108,
     "metadata": {},
     "output_type": "execute_result"
    }
   ],
   "source": [
    "df.dtypes"
   ]
  },
  {
   "cell_type": "code",
   "execution_count": 109,
   "metadata": {},
   "outputs": [
    {
     "data": {
      "text/html": [
       "<div>\n",
       "<style scoped>\n",
       "    .dataframe tbody tr th:only-of-type {\n",
       "        vertical-align: middle;\n",
       "    }\n",
       "\n",
       "    .dataframe tbody tr th {\n",
       "        vertical-align: top;\n",
       "    }\n",
       "\n",
       "    .dataframe thead th {\n",
       "        text-align: right;\n",
       "    }\n",
       "</style>\n",
       "<table border=\"1\" class=\"dataframe\">\n",
       "  <thead>\n",
       "    <tr style=\"text-align: right;\">\n",
       "      <th></th>\n",
       "      <th>imager1</th>\n",
       "      <th>imager2</th>\n",
       "    </tr>\n",
       "  </thead>\n",
       "  <tbody>\n",
       "    <tr>\n",
       "      <th>0</th>\n",
       "      <td>1594195707503000000</td>\n",
       "      <td>1594195707503000000</td>\n",
       "    </tr>\n",
       "    <tr>\n",
       "      <th>1</th>\n",
       "      <td>1594195723945000000</td>\n",
       "      <td>1594195723945000000</td>\n",
       "    </tr>\n",
       "    <tr>\n",
       "      <th>2</th>\n",
       "      <td>1594234939750000000</td>\n",
       "      <td>1594234939750000000</td>\n",
       "    </tr>\n",
       "    <tr>\n",
       "      <th>3</th>\n",
       "      <td>1594234959780000000</td>\n",
       "      <td>1594234959780000000</td>\n",
       "    </tr>\n",
       "    <tr>\n",
       "      <th>4</th>\n",
       "      <td>1594235084034000000</td>\n",
       "      <td>1594235084034000000</td>\n",
       "    </tr>\n",
       "  </tbody>\n",
       "</table>\n",
       "</div>"
      ],
      "text/plain": [
       "               imager1              imager2\n",
       "0  1594195707503000000  1594195707503000000\n",
       "1  1594195723945000000  1594195723945000000\n",
       "2  1594234939750000000  1594234939750000000\n",
       "3  1594234959780000000  1594234959780000000\n",
       "4  1594235084034000000  1594235084034000000"
      ]
     },
     "execution_count": 109,
     "metadata": {},
     "output_type": "execute_result"
    }
   ],
   "source": [
    "df.head()"
   ]
  },
  {
   "cell_type": "code",
   "execution_count": 110,
   "metadata": {},
   "outputs": [
    {
     "data": {
      "text/html": [
       "<div>\n",
       "<style scoped>\n",
       "    .dataframe tbody tr th:only-of-type {\n",
       "        vertical-align: middle;\n",
       "    }\n",
       "\n",
       "    .dataframe tbody tr th {\n",
       "        vertical-align: top;\n",
       "    }\n",
       "\n",
       "    .dataframe thead th {\n",
       "        text-align: right;\n",
       "    }\n",
       "</style>\n",
       "<table border=\"1\" class=\"dataframe\">\n",
       "  <thead>\n",
       "    <tr style=\"text-align: right;\">\n",
       "      <th></th>\n",
       "      <th>imager1</th>\n",
       "      <th>imager2</th>\n",
       "    </tr>\n",
       "  </thead>\n",
       "  <tbody>\n",
       "    <tr>\n",
       "      <th>count</th>\n",
       "      <td>1.900000e+02</td>\n",
       "      <td>1.900000e+02</td>\n",
       "    </tr>\n",
       "    <tr>\n",
       "      <th>mean</th>\n",
       "      <td>1.594242e+18</td>\n",
       "      <td>1.594242e+18</td>\n",
       "    </tr>\n",
       "    <tr>\n",
       "      <th>std</th>\n",
       "      <td>7.257308e+12</td>\n",
       "      <td>7.257308e+12</td>\n",
       "    </tr>\n",
       "    <tr>\n",
       "      <th>min</th>\n",
       "      <td>1.594196e+18</td>\n",
       "      <td>1.594196e+18</td>\n",
       "    </tr>\n",
       "    <tr>\n",
       "      <th>25%</th>\n",
       "      <td>1.594238e+18</td>\n",
       "      <td>1.594238e+18</td>\n",
       "    </tr>\n",
       "    <tr>\n",
       "      <th>50%</th>\n",
       "      <td>1.594242e+18</td>\n",
       "      <td>1.594242e+18</td>\n",
       "    </tr>\n",
       "    <tr>\n",
       "      <th>75%</th>\n",
       "      <td>1.594245e+18</td>\n",
       "      <td>1.594245e+18</td>\n",
       "    </tr>\n",
       "    <tr>\n",
       "      <th>max</th>\n",
       "      <td>1.594253e+18</td>\n",
       "      <td>1.594253e+18</td>\n",
       "    </tr>\n",
       "  </tbody>\n",
       "</table>\n",
       "</div>"
      ],
      "text/plain": [
       "            imager1       imager2\n",
       "count  1.900000e+02  1.900000e+02\n",
       "mean   1.594242e+18  1.594242e+18\n",
       "std    7.257308e+12  7.257308e+12\n",
       "min    1.594196e+18  1.594196e+18\n",
       "25%    1.594238e+18  1.594238e+18\n",
       "50%    1.594242e+18  1.594242e+18\n",
       "75%    1.594245e+18  1.594245e+18\n",
       "max    1.594253e+18  1.594253e+18"
      ]
     },
     "execution_count": 110,
     "metadata": {},
     "output_type": "execute_result"
    }
   ],
   "source": [
    "df.describe()"
   ]
  },
  {
   "cell_type": "code",
   "execution_count": 111,
   "metadata": {},
   "outputs": [
    {
     "data": {
      "image/png": "[encoded data removed]",
      "text/plain": [
       "<Figure size 432x288 with 1 Axes>"
      ]
     },
     "metadata": {
      "needs_background": "light"
     },
     "output_type": "display_data"
    }
   ],
   "source": [
    "# create a scatter plot\n",
    "from pandas import read_csv\n",
    "from matplotlib import pyplot\n",
    "from pandas.plotting import lag_plot\n",
    "#series = read_csv('daily-minimum-temperatures.csv', header=0, index_col=0, parse_dates=True, squeeze=True)\n",
    "lag_plot(ser)\n",
    "pyplot.show()"
   ]
  },
  {
   "cell_type": "code",
   "execution_count": 112,
   "metadata": {},
   "outputs": [
    {
     "data": {
      "text/html": [
       "<div>\n",
       "<style scoped>\n",
       "    .dataframe tbody tr th:only-of-type {\n",
       "        vertical-align: middle;\n",
       "    }\n",
       "\n",
       "    .dataframe tbody tr th {\n",
       "        vertical-align: top;\n",
       "    }\n",
       "\n",
       "    .dataframe thead th {\n",
       "        text-align: right;\n",
       "    }\n",
       "</style>\n",
       "<table border=\"1\" class=\"dataframe\">\n",
       "  <thead>\n",
       "    <tr style=\"text-align: right;\">\n",
       "      <th></th>\n",
       "      <th>imager1</th>\n",
       "      <th>imager2</th>\n",
       "    </tr>\n",
       "  </thead>\n",
       "  <tbody>\n",
       "    <tr>\n",
       "      <th>0</th>\n",
       "      <td>1594195707503000000</td>\n",
       "      <td>1594195707503000000</td>\n",
       "    </tr>\n",
       "    <tr>\n",
       "      <th>1</th>\n",
       "      <td>1594195723945000000</td>\n",
       "      <td>1594195723945000000</td>\n",
       "    </tr>\n",
       "    <tr>\n",
       "      <th>2</th>\n",
       "      <td>1594234939750000000</td>\n",
       "      <td>1594234939750000000</td>\n",
       "    </tr>\n",
       "    <tr>\n",
       "      <th>3</th>\n",
       "      <td>1594234959780000000</td>\n",
       "      <td>1594234959780000000</td>\n",
       "    </tr>\n",
       "    <tr>\n",
       "      <th>4</th>\n",
       "      <td>1594235084034000000</td>\n",
       "      <td>1594235084034000000</td>\n",
       "    </tr>\n",
       "    <tr>\n",
       "      <th>...</th>\n",
       "      <td>...</td>\n",
       "      <td>...</td>\n",
       "    </tr>\n",
       "    <tr>\n",
       "      <th>185</th>\n",
       "      <td>1594252430841000000</td>\n",
       "      <td>1594252430841000000</td>\n",
       "    </tr>\n",
       "    <tr>\n",
       "      <th>186</th>\n",
       "      <td>1594252555719000000</td>\n",
       "      <td>1594252555719000000</td>\n",
       "    </tr>\n",
       "    <tr>\n",
       "      <th>187</th>\n",
       "      <td>1594252575484000000</td>\n",
       "      <td>1594252575484000000</td>\n",
       "    </tr>\n",
       "    <tr>\n",
       "      <th>188</th>\n",
       "      <td>1594252700004000000</td>\n",
       "      <td>1594252700004000000</td>\n",
       "    </tr>\n",
       "    <tr>\n",
       "      <th>189</th>\n",
       "      <td>1594252719769000000</td>\n",
       "      <td>1594252719769000000</td>\n",
       "    </tr>\n",
       "  </tbody>\n",
       "</table>\n",
       "<p>190 rows × 2 columns</p>\n",
       "</div>"
      ],
      "text/plain": [
       "                 imager1              imager2\n",
       "0    1594195707503000000  1594195707503000000\n",
       "1    1594195723945000000  1594195723945000000\n",
       "2    1594234939750000000  1594234939750000000\n",
       "3    1594234959780000000  1594234959780000000\n",
       "4    1594235084034000000  1594235084034000000\n",
       "..                   ...                  ...\n",
       "185  1594252430841000000  1594252430841000000\n",
       "186  1594252555719000000  1594252555719000000\n",
       "187  1594252575484000000  1594252575484000000\n",
       "188  1594252700004000000  1594252700004000000\n",
       "189  1594252719769000000  1594252719769000000\n",
       "\n",
       "[190 rows x 2 columns]"
      ]
     },
     "execution_count": 112,
     "metadata": {},
     "output_type": "execute_result"
    }
   ],
   "source": [
    "df"
   ]
  },
  {
   "cell_type": "code",
   "execution_count": 113,
   "metadata": {},
   "outputs": [
    {
     "data": {
      "text/plain": [
       "array([[<matplotlib.axes._subplots.AxesSubplot object at 0x7fdff8081c88>,\n",
       "        <matplotlib.axes._subplots.AxesSubplot object at 0x7fdff0c4e2e8>]],\n",
       "      dtype=object)"
      ]
     },
     "execution_count": 113,
     "metadata": {},
     "output_type": "execute_result"
    },
    {
     "data": {
      "image/png": "[encoded data removed]",
      "text/plain": [
       "<Figure size 432x288 with 2 Axes>"
      ]
     },
     "metadata": {
      "needs_background": "light"
     },
     "output_type": "display_data"
    }
   ],
   "source": [
    "df.hist()"
   ]
  },
  {
   "cell_type": "code",
   "execution_count": 114,
   "metadata": {},
   "outputs": [
    {
     "data": {
      "text/plain": [
       "<BarContainer object of 10 artists>"
      ]
     },
     "execution_count": 114,
     "metadata": {},
     "output_type": "execute_result"
    },
    {
     "data": {
      "image/png": "[encoded data removed]",
      "text/plain": [
       "<Figure size 432x288 with 1 Axes>"
      ]
     },
     "metadata": {
      "needs_background": "light"
     },
     "output_type": "display_data"
    }
   ],
   "source": [
    "%matplotlib inline\n",
    "import numpy as np\n",
    "import matplotlib.pyplot as plt\n",
    "import pandas\n",
    "#import seaborn\n",
    "#seaborn.set(style='ticks')\n",
    "\n",
    "fig, ax = plt.subplots()\n",
    "\n",
    "a_heights, a_bins = np.histogram(df['imager1'])\n",
    "b_heights, b_bins = np.histogram(df['imager2'], bins=a_bins)\n",
    "\n",
    "width = (a_bins[1] - a_bins[0])/3\n",
    "\n",
    "ax.bar(a_bins[:-1], a_heights, width=width, facecolor='cornflowerblue')\n",
    "ax.bar(b_bins[:-1]+width, b_heights, width=width, facecolor='seagreen')\n"
   ]
  },
  {
   "cell_type": "code",
   "execution_count": null,
   "metadata": {},
   "outputs": [],
   "source": []
  }
 ],
 "metadata": {
  "kernelspec": {
   "display_name": "Python 3",
   "language": "python",
   "name": "python3"
  },
  "language_info": {
   "codemirror_mode": {
    "name": "ipython",
    "version": 3
   },
   "file_extension": ".py",
   "mimetype": "text/x-python",
   "name": "python",
   "nbconvert_exporter": "python",
   "pygments_lexer": "ipython3",
   "version": "3.6.9"
  }
 },
 "nbformat": 4,
 "nbformat_minor": 4
}
