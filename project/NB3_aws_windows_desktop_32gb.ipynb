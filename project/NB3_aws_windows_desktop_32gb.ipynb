{
 "cells": [
  {
   "cell_type": "markdown",
   "metadata": {},
   "source": [
    "# AWS / Windows Remote Desktop 32GB\n",
    "Here are the steps to stand up an AWS (Amazon Web Sevices) EC2 cloud server to run Kaggle sims using Windows Remote Desktop."
   ]
  },
  {
   "cell_type": "markdown",
   "metadata": {},
   "source": [
    "## Returning user...\n",
    "\n",
    "1. from the EC2 dashboard - re-start the instance\n",
    "1. \"connect\" button\n",
    "1. \"get password\"\n",
    "1. (find the .pem file from when the instance as originally created)\n",
    "1. \"decrypt\"\n",
    "1. copy to clipboard\n",
    "1. download remote desktop file\n",
    "1. double-click the .rdt file\n",
    "1. enter the password\n"
   ]
  },
  {
   "cell_type": "markdown",
   "metadata": {},
   "source": [
    "# First time user: create an AWS account and go to console\n",
    "* My Account\n",
    "* Paymnt Methods (add credit card)\n",
    "* add a \"budget\" and \"alerts\"\n",
    "* \n",
    "* Services\n",
    "* EC2\n",
    "* Launch Instance\n",
    "* Windows Server 2019 Base\n",
    "* General Purpose 32GB\n",
    "* for PlastiCC the database is 30G.  Will need at least 2 copies.  Try 100GB\n",
    "* all other defaults - no security group\n",
    "* \n",
    "* From \"EC2 Dashboard\"\n",
    "* \"key pairs\" and \"create a key pair\"\n",
    "* save PEM file\n",
    "* launch instance\n"
   ]
  },
  {
   "cell_type": "markdown",
   "metadata": {},
   "source": [
    "# Remote Desktop to instance\n",
    "* follow the instructions.\n",
    "  * https://docs.aws.amazon.com/AWSEC2/latest/WindowsGuide/connecting_to_windows_instance.html?icmpid=docs_ec2_console\n",
    "* check for mstc at command prompt (on laptop)\n",
    "* Get ID of the instance and public DNS of the instance\n",
    "  * from console - EC2\n",
    "* (no need to enable inbound traffic)\n",
    "* console -> instances -> highlight -> connect\n",
    "  * get password\n",
    "  * choose pem file\n",
    "  * decrypt and copy to clipboard\n",
    "  * download remote desktop file (.rdp)\n",
    "* double-click the .rdp file downloaded\n",
    "* paste the password (and check the boxes to \"remember me\")\n",
    "* remote desktop loads\n",
    "\n",
    "\n"
   ]
  },
  {
   "cell_type": "markdown",
   "metadata": {},
   "source": [
    "# connecting to an existing EC2\n",
    "* just double-click the remote desktop file (.rdp)"
   ]
  },
  {
   "cell_type": "markdown",
   "metadata": {},
   "source": [
    "# Getting IE to allow downloads\n",
    "* it is AWS, not IE that is preventing it!\n",
    "* https://aws.amazon.com/premiumsupport/knowledge-center/ec2-windows-file-download-ie/\n",
    "* (unclear.... just need to enable everything)\n",
    "* download chrome"
   ]
  },
  {
   "cell_type": "markdown",
   "metadata": {},
   "source": [
    "# Setting up environment on EC2...\n",
    "* download git from website - all defaults\n",
    "  * https://git-scm.com/downloads\n",
    "* download my powershell config file\n",
    "  * cd Documents\n",
    "  * git clone https://github.com/cwinsor/WindowsPowerShell.git\n",
    "  \n",
    "* Download python (64bit!!!) and install\n",
    "\n"
   ]
  },
  {
   "cell_type": "markdown",
   "metadata": {},
   "source": [
    "# clone the respository\n",
    "# clone any data from the competition\n",
    "# extract the data\n",
    "# copy \"setup.ps1\" files and any \"requirements.txt\" changes\n",
    " * (can use notepad and copy/past buffer for this)\n",
    " "
   ]
  }
 ],
 "metadata": {
  "kernelspec": {
   "display_name": "Python 3",
   "language": "python",
   "name": "python3"
  },
  "language_info": {
   "codemirror_mode": {
    "name": "ipython",
    "version": 3
   },
   "file_extension": ".py",
   "mimetype": "text/x-python",
   "name": "python",
   "nbconvert_exporter": "python",
   "pygments_lexer": "ipython3",
   "version": "3.7.5rc1"
  }
 },
 "nbformat": 4,
 "nbformat_minor": 2
}
