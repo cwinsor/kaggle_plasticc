{
 "cells": [
  {
   "cell_type": "markdown",
   "metadata": {},
   "source": [
    "# split test data into chunks"
   ]
  },
  {
   "cell_type": "code",
   "execution_count": 1,
   "metadata": {},
   "outputs": [],
   "source": [
    "\"\"\"Split the test data into chunks.\"\"\"\n",
    "\n",
    "import numpy as np\n",
    "import pandas as pd\n",
    "import os"
   ]
  },
  {
   "cell_type": "code",
   "execution_count": 2,
   "metadata": {},
   "outputs": [
    {
     "name": "stdout",
     "output_type": "stream",
     "text": [
      "64bit test...\n",
      "64\n"
     ]
    }
   ],
   "source": [
    "import struct\n",
    "print(\"64bit test...\")\n",
    "print(struct.calcsize(\"P\") * 8)"
   ]
  },
  {
   "cell_type": "code",
   "execution_count": 3,
   "metadata": {},
   "outputs": [],
   "source": [
    "shared_data_path = r'C:\\\\Users\\\\Chris\\\\Documents\\\\code_kaggle_plasticc___shared_data\\\\PLAsTiCC-2018'"
   ]
  },
  {
   "cell_type": "code",
   "execution_count": 8,
   "metadata": {},
   "outputs": [
    {
     "name": "stdout",
     "output_type": "stream",
     "text": [
      "read\n",
      "sort\n",
      "chunk\n",
      "chunk 0\n",
      "chunk 1\n",
      "chunk 2\n",
      "chunk 3\n",
      "chunk 4\n",
      "chunk 5\n",
      "chunk 6\n",
      "chunk 7\n",
      "chunk 8\n",
      "chunk 9\n",
      "chunk 10\n",
      "chunk 11\n",
      "chunk 12\n",
      "chunk 13\n",
      "chunk 14\n",
      "chunk 15\n",
      "chunk 16\n",
      "chunk 17\n",
      "chunk 18\n",
      "chunk 19\n",
      "chunk 20\n",
      "chunk 21\n",
      "chunk 22\n",
      "chunk 23\n",
      "chunk 24\n",
      "chunk 25\n",
      "chunk 26\n",
      "chunk 27\n",
      "chunk 28\n",
      "chunk 29\n",
      "chunk 30\n",
      "chunk 31\n",
      "chunk 32\n",
      "chunk 33\n",
      "chunk 34\n",
      "chunk 35\n",
      "chunk 36\n",
      "chunk 37\n",
      "chunk 38\n",
      "chunk 39\n",
      "chunk 40\n",
      "chunk 41\n",
      "chunk 42\n",
      "chunk 43\n",
      "chunk 44\n",
      "chunk 45\n",
      "chunk 46\n",
      "chunk 47\n",
      "chunk 48\n",
      "chunk 49\n",
      "chunk 50\n",
      "chunk 51\n",
      "chunk 52\n",
      "chunk 53\n",
      "chunk 54\n",
      "chunk 55\n",
      "chunk 56\n",
      "chunk 57\n",
      "chunk 58\n",
      "chunk 59\n",
      "chunk 60\n",
      "chunk 61\n",
      "chunk 62\n",
      "chunk 63\n",
      "chunk 64\n",
      "chunk 65\n",
      "chunk 66\n",
      "chunk 67\n",
      "chunk 68\n",
      "chunk 69\n",
      "chunk 70\n",
      "chunk 71\n",
      "chunk 72\n",
      "chunk 73\n",
      "chunk 74\n",
      "chunk 75\n",
      "chunk 76\n",
      "chunk 77\n",
      "chunk 78\n",
      "chunk 79\n",
      "chunk 80\n",
      "chunk 81\n",
      "chunk 82\n",
      "chunk 83\n",
      "chunk 84\n",
      "chunk 85\n",
      "chunk 86\n",
      "chunk 87\n",
      "chunk 88\n",
      "chunk 89\n",
      "chunk 90\n",
      "chunk 91\n",
      "chunk 92\n",
      "chunk 93\n",
      "chunk 94\n",
      "chunk 95\n",
      "chunk 96\n",
      "chunk 97\n",
      "chunk 98\n",
      "chunk 99\n",
      "done\n"
     ]
    }
   ],
   "source": [
    "n_chunks = 100\n",
    "if not os.path.exists(os.path.join(shared_data_path, 'split_{}'.format(n_chunks))):\n",
    "    os.mkdir(os.path.join(shared_data_path, 'split_{}'.format(n_chunks)))\n",
    "\n",
    "print(\"read\")\n",
    "col_dict = {'mjd': np.float64, 'flux': np.float32, 'flux_err': np.float32, 'object_id': np.int32, 'passband': np.int8,\n",
    "            'detected': np.int8}\n",
    "\n",
    "#test = pd.read_csv(os.path.join(shared_data_path, 'test_set.csv'), dtype=col_dict)\n",
    "test = pd.read_csv(os.path.join(shared_data_path, 'test_set_sample.csv'), dtype=col_dict)\n",
    "\n",
    "print(\"sort\")\n",
    "test.sort_values('object_id', inplace=True)\n",
    "test = test.reset_index()\n",
    "test_len = len(test)\n",
    "\n",
    "print(\"chunk\")\n",
    "id_diff = test.loc[test['object_id'].diff() != 0].index\n",
    "chunk_starts = [id_diff[int(len(id_diff) * i / n_chunks)] for i in range(n_chunks)]\n",
    "for i in range(n_chunks):\n",
    "    print(\"chunk\", i)\n",
    "    if i == n_chunks - 1:\n",
    "        end = len(test)\n",
    "    else:\n",
    "        end = chunk_starts[i + 1]\n",
    "    test.iloc[chunk_starts[i]: end - 1].to_hdf(os.path.join(shared_data_path, 'split_{}'.format(n_chunks),\n",
    "                                                            'chunk_{}.hdf5'.format(i)), key='file0')\n",
    "\n",
    "print(\"done\")"
   ]
  },
  {
   "cell_type": "code",
   "execution_count": null,
   "metadata": {},
   "outputs": [],
   "source": []
  }
 ],
 "metadata": {
  "kernelspec": {
   "display_name": "Python 3",
   "language": "python",
   "name": "python3"
  },
  "language_info": {
   "codemirror_mode": {
    "name": "ipython",
    "version": 3
   },
   "file_extension": ".py",
   "mimetype": "text/x-python",
   "name": "python",
   "nbconvert_exporter": "python",
   "pygments_lexer": "ipython3",
   "version": "3.7.5rc1"
  }
 },
 "nbformat": 4,
 "nbformat_minor": 2
}
