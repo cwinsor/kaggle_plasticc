{
 "cells": [
  {
   "cell_type": "markdown",
   "metadata": {},
   "source": [
    "# cwinsor's Kaggle PLAsTiCC"
   ]
  },
  {
   "cell_type": "markdown",
   "metadata": {},
   "source": [
    "\n",
    "### The Plan:\n",
    "\n",
    "Feature Engineering (Libraries I want to use highest priority first):\n",
    "* feets (feature extractor for timeseries) - community contribution, starting with astronomical features\n",
    "* cesium (feature extractor/explorer for timeseries) - general timeseries library with web app\n",
    "* lomb-scargle\n",
    "* catboost (library for categorical data)\n",
    "* george \n",
    "* bayes\n",
    "\n",
    "Modeling:  Machine learning techniqus I want to use:\n",
    "* LightGBM\n",
    "* stacking/ensemble\n",
    "\n",
    "The general approach is:\n",
    "1. for each object, segment the timeseries into observation chunks (use \"feets\" for this)\n",
    "\n",
    "\n"
   ]
  },
  {
   "cell_type": "code",
   "execution_count": 1,
   "metadata": {},
   "outputs": [],
   "source": [
    "import pandas as pd\n",
    "import numpy as np\n",
    "import gc\n",
    "import os"
   ]
  },
  {
   "cell_type": "markdown",
   "metadata": {},
   "source": [
    "* there are:\n",
    "  * [test/train]_set_metadata\n",
    "  * [test/train]_set\n",
    "  * test_set_sample - a small (1M lines of test data)\n",
    "  * sample_submission - example submission file\n",
    "\n",
    "```\n",
    "\n",
    "            Training                 \"Test\"                  aggregated     Validation\n",
    "            ---------------------    -----------------       -----------    ------------\n",
    "\n",
    "metadata    training_set_metadata    test_set_metadata \n",
    "            (7800 x 12)              (3.4M x 11)\n",
    " (btrotta)  \"train_meta\"             \"test_meta\"             \"all_meta\"\n",
    "\n",
    "\n",
    "timeseries  training_set             test_set_samples        \"xxx\"\n",
    "            (1.4M x 6)               (1.0M x 6)\n",
    " (btrotta)  \"train\"                  \"test\"\n",
    "\n",
    "                                     (poorly named \"Test\"\n",
    "                                     it is unlabeled data)\n",
    "```\n"
   ]
  },
  {
   "cell_type": "code",
   "execution_count": 2,
   "metadata": {},
   "outputs": [],
   "source": [
    "shared_data_path = r'C:\\\\Users\\\\Chris\\\\Documents\\\\code_kaggle_plasticc___shared_data\\\\PLAsTiCC-2018'"
   ]
  },
  {
   "cell_type": "code",
   "execution_count": 3,
   "metadata": {},
   "outputs": [],
   "source": [
    "# read training data\n",
    "col_dict = {'mjd': np.float64, 'flux': np.float32, 'flux_err': np.float32, 'object_id': np.int32, 'passband': np.int8,\n",
    "            'detected': np.int8}\n",
    "train_meta = pd.read_csv(os.path.join(shared_data_path, 'training_set_metadata.csv'))\n",
    "train = pd.read_csv(os.path.join(shared_data_path, 'training_set.csv'), dtype=col_dict)\n"
   ]
  },
  {
   "cell_type": "code",
   "execution_count": 4,
   "metadata": {},
   "outputs": [],
   "source": [
    "# read test data\n",
    "test_meta = pd.read_csv(os.path.join(shared_data_path, 'test_set_metadata.csv'))\n",
    "test = pd.read_csv(os.path.join(shared_data_path, 'test_set_sample.csv'), dtype=col_dict)"
   ]
  },
  {
   "cell_type": "code",
   "execution_count": 5,
   "metadata": {},
   "outputs": [
    {
     "name": "stdout",
     "output_type": "stream",
     "text": [
      "(7848, 12)\n",
      "(1421705, 6)\n",
      "(3492890, 11)\n",
      "(1000000, 6)\n",
      "(7848,)\n",
      "(7848,)\n",
      "(3492890,)\n",
      "(3036,)\n"
     ]
    }
   ],
   "source": [
    "# we observe test_set_metadata has many IDs that are not in the test_set_samples\n",
    "print(train_meta.shape)\n",
    "print(train.shape)\n",
    "print(test_meta.shape)\n",
    "print(test.shape)\n",
    "# and the number of unique IDs in test data is much smaller\n",
    "print(train_meta[\"object_id\"].unique().shape)\n",
    "print(train[\"object_id\"].unique().shape)\n",
    "print(test_meta[\"object_id\"].unique().shape)\n",
    "print(test[\"object_id\"].unique().shape)"
   ]
  },
  {
   "cell_type": "code",
   "execution_count": 6,
   "metadata": {},
   "outputs": [],
   "source": [
    "# so create a test_meta_sub that contains only those IDs where there is accompanying data in test\n",
    "unique = test['object_id'].unique()\n",
    "criteria = test_meta['object_id'].isin(unique)\n",
    "test_meta_sub = test_meta[criteria]"
   ]
  },
  {
   "cell_type": "code",
   "execution_count": 7,
   "metadata": {},
   "outputs": [
    {
     "data": {
      "text/html": [
       "<div>\n",
       "<style scoped>\n",
       "    .dataframe tbody tr th:only-of-type {\n",
       "        vertical-align: middle;\n",
       "    }\n",
       "\n",
       "    .dataframe tbody tr th {\n",
       "        vertical-align: top;\n",
       "    }\n",
       "\n",
       "    .dataframe thead th {\n",
       "        text-align: right;\n",
       "    }\n",
       "</style>\n",
       "<table border=\"1\" class=\"dataframe\">\n",
       "  <thead>\n",
       "    <tr style=\"text-align: right;\">\n",
       "      <th></th>\n",
       "      <th>object_id</th>\n",
       "      <th>ra</th>\n",
       "      <th>decl</th>\n",
       "      <th>gal_l</th>\n",
       "      <th>gal_b</th>\n",
       "      <th>ddf</th>\n",
       "      <th>hostgal_specz</th>\n",
       "      <th>hostgal_photoz</th>\n",
       "      <th>hostgal_photoz_err</th>\n",
       "      <th>distmod</th>\n",
       "      <th>mwebv</th>\n",
       "    </tr>\n",
       "  </thead>\n",
       "  <tbody>\n",
       "    <tr>\n",
       "      <th>0</th>\n",
       "      <td>13</td>\n",
       "      <td>34.453125</td>\n",
       "      <td>-5.229529</td>\n",
       "      <td>169.987075</td>\n",
       "      <td>-59.956185</td>\n",
       "      <td>1</td>\n",
       "      <td>0.3048</td>\n",
       "      <td>0.3193</td>\n",
       "      <td>0.0542</td>\n",
       "      <td>41.1123</td>\n",
       "      <td>0.019</td>\n",
       "    </tr>\n",
       "    <tr>\n",
       "      <th>1</th>\n",
       "      <td>14</td>\n",
       "      <td>33.398438</td>\n",
       "      <td>-4.331149</td>\n",
       "      <td>167.226341</td>\n",
       "      <td>-59.936551</td>\n",
       "      <td>1</td>\n",
       "      <td>NaN</td>\n",
       "      <td>0.6323</td>\n",
       "      <td>0.0179</td>\n",
       "      <td>42.8774</td>\n",
       "      <td>0.018</td>\n",
       "    </tr>\n",
       "    <tr>\n",
       "      <th>2</th>\n",
       "      <td>17</td>\n",
       "      <td>348.529419</td>\n",
       "      <td>-61.755440</td>\n",
       "      <td>321.293980</td>\n",
       "      <td>-51.763351</td>\n",
       "      <td>1</td>\n",
       "      <td>NaN</td>\n",
       "      <td>0.8297</td>\n",
       "      <td>0.0605</td>\n",
       "      <td>43.6000</td>\n",
       "      <td>0.016</td>\n",
       "    </tr>\n",
       "    <tr>\n",
       "      <th>3</th>\n",
       "      <td>23</td>\n",
       "      <td>34.804688</td>\n",
       "      <td>-5.829153</td>\n",
       "      <td>171.307861</td>\n",
       "      <td>-60.174401</td>\n",
       "      <td>1</td>\n",
       "      <td>NaN</td>\n",
       "      <td>0.6533</td>\n",
       "      <td>0.1479</td>\n",
       "      <td>42.9640</td>\n",
       "      <td>0.023</td>\n",
       "    </tr>\n",
       "    <tr>\n",
       "      <th>4</th>\n",
       "      <td>34</td>\n",
       "      <td>351.321442</td>\n",
       "      <td>-64.198746</td>\n",
       "      <td>317.458993</td>\n",
       "      <td>-50.429931</td>\n",
       "      <td>1</td>\n",
       "      <td>0.4557</td>\n",
       "      <td>0.4617</td>\n",
       "      <td>0.0122</td>\n",
       "      <td>42.0540</td>\n",
       "      <td>0.023</td>\n",
       "    </tr>\n",
       "    <tr>\n",
       "      <th>...</th>\n",
       "      <td>...</td>\n",
       "      <td>...</td>\n",
       "      <td>...</td>\n",
       "      <td>...</td>\n",
       "      <td>...</td>\n",
       "      <td>...</td>\n",
       "      <td>...</td>\n",
       "      <td>...</td>\n",
       "      <td>...</td>\n",
       "      <td>...</td>\n",
       "      <td>...</td>\n",
       "    </tr>\n",
       "    <tr>\n",
       "      <th>3031</th>\n",
       "      <td>32267</td>\n",
       "      <td>351.953644</td>\n",
       "      <td>-62.132156</td>\n",
       "      <td>318.777388</td>\n",
       "      <td>-52.347124</td>\n",
       "      <td>1</td>\n",
       "      <td>0.4967</td>\n",
       "      <td>0.5030</td>\n",
       "      <td>0.0106</td>\n",
       "      <td>42.2768</td>\n",
       "      <td>0.019</td>\n",
       "    </tr>\n",
       "    <tr>\n",
       "      <th>3032</th>\n",
       "      <td>32269</td>\n",
       "      <td>53.789062</td>\n",
       "      <td>-27.784405</td>\n",
       "      <td>223.685697</td>\n",
       "      <td>-53.845803</td>\n",
       "      <td>1</td>\n",
       "      <td>0.3181</td>\n",
       "      <td>0.4847</td>\n",
       "      <td>0.4165</td>\n",
       "      <td>42.1803</td>\n",
       "      <td>0.009</td>\n",
       "    </tr>\n",
       "    <tr>\n",
       "      <th>3033</th>\n",
       "      <td>32284</td>\n",
       "      <td>52.207031</td>\n",
       "      <td>-28.630989</td>\n",
       "      <td>224.800211</td>\n",
       "      <td>-55.343637</td>\n",
       "      <td>1</td>\n",
       "      <td>NaN</td>\n",
       "      <td>1.1842</td>\n",
       "      <td>0.0852</td>\n",
       "      <td>44.5544</td>\n",
       "      <td>0.009</td>\n",
       "    </tr>\n",
       "    <tr>\n",
       "      <th>3034</th>\n",
       "      <td>32293</td>\n",
       "      <td>2.457983</td>\n",
       "      <td>-45.389202</td>\n",
       "      <td>324.632685</td>\n",
       "      <td>-69.945696</td>\n",
       "      <td>1</td>\n",
       "      <td>NaN</td>\n",
       "      <td>0.6675</td>\n",
       "      <td>0.1017</td>\n",
       "      <td>43.0207</td>\n",
       "      <td>0.011</td>\n",
       "    </tr>\n",
       "    <tr>\n",
       "      <th>3035</th>\n",
       "      <td>32300</td>\n",
       "      <td>33.398438</td>\n",
       "      <td>-3.732834</td>\n",
       "      <td>166.492280</td>\n",
       "      <td>-59.466614</td>\n",
       "      <td>1</td>\n",
       "      <td>NaN</td>\n",
       "      <td>0.8023</td>\n",
       "      <td>0.0590</td>\n",
       "      <td>43.5102</td>\n",
       "      <td>0.022</td>\n",
       "    </tr>\n",
       "  </tbody>\n",
       "</table>\n",
       "<p>3036 rows × 11 columns</p>\n",
       "</div>"
      ],
      "text/plain": [
       "      object_id          ra       decl       gal_l      gal_b  ddf  \\\n",
       "0            13   34.453125  -5.229529  169.987075 -59.956185    1   \n",
       "1            14   33.398438  -4.331149  167.226341 -59.936551    1   \n",
       "2            17  348.529419 -61.755440  321.293980 -51.763351    1   \n",
       "3            23   34.804688  -5.829153  171.307861 -60.174401    1   \n",
       "4            34  351.321442 -64.198746  317.458993 -50.429931    1   \n",
       "...         ...         ...        ...         ...        ...  ...   \n",
       "3031      32267  351.953644 -62.132156  318.777388 -52.347124    1   \n",
       "3032      32269   53.789062 -27.784405  223.685697 -53.845803    1   \n",
       "3033      32284   52.207031 -28.630989  224.800211 -55.343637    1   \n",
       "3034      32293    2.457983 -45.389202  324.632685 -69.945696    1   \n",
       "3035      32300   33.398438  -3.732834  166.492280 -59.466614    1   \n",
       "\n",
       "      hostgal_specz  hostgal_photoz  hostgal_photoz_err  distmod  mwebv  \n",
       "0            0.3048          0.3193              0.0542  41.1123  0.019  \n",
       "1               NaN          0.6323              0.0179  42.8774  0.018  \n",
       "2               NaN          0.8297              0.0605  43.6000  0.016  \n",
       "3               NaN          0.6533              0.1479  42.9640  0.023  \n",
       "4            0.4557          0.4617              0.0122  42.0540  0.023  \n",
       "...             ...             ...                 ...      ...    ...  \n",
       "3031         0.4967          0.5030              0.0106  42.2768  0.019  \n",
       "3032         0.3181          0.4847              0.4165  42.1803  0.009  \n",
       "3033            NaN          1.1842              0.0852  44.5544  0.009  \n",
       "3034            NaN          0.6675              0.1017  43.0207  0.011  \n",
       "3035            NaN          0.8023              0.0590  43.5102  0.022  \n",
       "\n",
       "[3036 rows x 11 columns]"
      ]
     },
     "execution_count": 7,
     "metadata": {},
     "output_type": "execute_result"
    }
   ],
   "source": [
    "test_meta_sub"
   ]
  },
  {
   "cell_type": "markdown",
   "metadata": {},
   "source": [
    "# investigate a bit"
   ]
  },
  {
   "cell_type": "code",
   "execution_count": 8,
   "metadata": {},
   "outputs": [],
   "source": [
    "# there is some discussion that training and test are very different (galactic vs extra-galactic)\n",
    "# I want to see (distribution of) distmod for training, test\n",
    "# I want to see (correlation of) hostgal_photoz and distmod for training, test\n",
    "# I want to see (correlation of) hostgal_spez) and distmod for training, test"
   ]
  },
  {
   "cell_type": "code",
   "execution_count": 9,
   "metadata": {},
   "outputs": [],
   "source": [
    "# visualization\n",
    "import seaborn as sns\n",
    "import matplotlib.pyplot as plt\n",
    "#%matplotlib inline"
   ]
  },
  {
   "cell_type": "code",
   "execution_count": 10,
   "metadata": {},
   "outputs": [
    {
     "data": {
      "text/plain": [
       "<bound method hist_series of 0           NaN\n",
       "1       45.4063\n",
       "2       40.2561\n",
       "3       40.7951\n",
       "4       40.4166\n",
       "         ...   \n",
       "7843        NaN\n",
       "7844    46.6108\n",
       "7845        NaN\n",
       "7846        NaN\n",
       "7847        NaN\n",
       "Name: distmod, Length: 7848, dtype: float64>"
      ]
     },
     "execution_count": 10,
     "metadata": {},
     "output_type": "execute_result"
    }
   ],
   "source": [
    "train_meta['distmod'].hist"
   ]
  },
  {
   "cell_type": "code",
   "execution_count": 12,
   "metadata": {},
   "outputs": [
    {
     "data": {
      "image/png": "[encoded data removed]",
      "text/plain": [
       "<Figure size 576x288 with 1 Axes>"
      ]
     },
     "metadata": {
      "needs_background": "light"
     },
     "output_type": "display_data"
    }
   ],
   "source": [
    "f = plt.figure(figsize = (8, 4))\n",
    "plt.title('A Histogram')\n",
    "plt.xlabel('xlabel')\n",
    "plt.ylabel('ylabel')\n",
    "plt.xlim(30, 50)\n",
    "y = plt.hist(figure=f, x=train_meta['distmod'], bins = 30)"
   ]
  },
  {
   "cell_type": "code",
   "execution_count": 13,
   "metadata": {},
   "outputs": [
    {
     "data": {
      "image/png": "[encoded data removed]",
      "text/plain": [
       "<Figure size 576x288 with 1 Axes>"
      ]
     },
     "metadata": {
      "needs_background": "light"
     },
     "output_type": "display_data"
    }
   ],
   "source": [
    "f = plt.figure(figsize = (8, 4))\n",
    "plt.xlim(30, 50)\n",
    "y = plt.hist(figure=f, x=test_meta_sub['distmod'], bins = 30)"
   ]
  },
  {
   "cell_type": "code",
   "execution_count": 14,
   "metadata": {},
   "outputs": [
    {
     "data": {
      "image/png": "[encoded data removed]",
      "text/plain": [
       "<Figure size 576x288 with 1 Axes>"
      ]
     },
     "metadata": {
      "needs_background": "light"
     },
     "output_type": "display_data"
    }
   ],
   "source": [
    "f = plt.figure(figsize = (8, 4))\n",
    "plt.xlim(30, 50)\n",
    "y = plt.hist(figure=f, x=test_meta['distmod'], bins = 30)"
   ]
  },
  {
   "cell_type": "markdown",
   "metadata": {},
   "source": [
    "### in conclusion - the test data is somewhat different from train"
   ]
  },
  {
   "cell_type": "markdown",
   "metadata": {},
   "source": [
    "## now lets look at correlation between distmod and hostgal_spez/photoz"
   ]
  },
  {
   "cell_type": "code",
   "execution_count": 15,
   "metadata": {},
   "outputs": [
    {
     "data": {
      "text/html": [
       "<div>\n",
       "<style scoped>\n",
       "    .dataframe tbody tr th:only-of-type {\n",
       "        vertical-align: middle;\n",
       "    }\n",
       "\n",
       "    .dataframe tbody tr th {\n",
       "        vertical-align: top;\n",
       "    }\n",
       "\n",
       "    .dataframe thead th {\n",
       "        text-align: right;\n",
       "    }\n",
       "</style>\n",
       "<table border=\"1\" class=\"dataframe\">\n",
       "  <thead>\n",
       "    <tr style=\"text-align: right;\">\n",
       "      <th></th>\n",
       "      <th>object_id</th>\n",
       "      <th>ra</th>\n",
       "      <th>decl</th>\n",
       "      <th>gal_l</th>\n",
       "      <th>gal_b</th>\n",
       "      <th>ddf</th>\n",
       "      <th>hostgal_specz</th>\n",
       "      <th>hostgal_photoz</th>\n",
       "      <th>hostgal_photoz_err</th>\n",
       "      <th>distmod</th>\n",
       "      <th>mwebv</th>\n",
       "      <th>target</th>\n",
       "    </tr>\n",
       "  </thead>\n",
       "  <tbody>\n",
       "    <tr>\n",
       "      <th>0</th>\n",
       "      <td>615</td>\n",
       "      <td>349.046051</td>\n",
       "      <td>-61.943836</td>\n",
       "      <td>320.796530</td>\n",
       "      <td>-51.753706</td>\n",
       "      <td>1</td>\n",
       "      <td>0.0000</td>\n",
       "      <td>0.0000</td>\n",
       "      <td>0.0000</td>\n",
       "      <td>NaN</td>\n",
       "      <td>0.017</td>\n",
       "      <td>92</td>\n",
       "    </tr>\n",
       "    <tr>\n",
       "      <th>1</th>\n",
       "      <td>713</td>\n",
       "      <td>53.085938</td>\n",
       "      <td>-27.784405</td>\n",
       "      <td>223.525509</td>\n",
       "      <td>-54.460748</td>\n",
       "      <td>1</td>\n",
       "      <td>1.8181</td>\n",
       "      <td>1.6267</td>\n",
       "      <td>0.2552</td>\n",
       "      <td>45.4063</td>\n",
       "      <td>0.007</td>\n",
       "      <td>88</td>\n",
       "    </tr>\n",
       "    <tr>\n",
       "      <th>2</th>\n",
       "      <td>730</td>\n",
       "      <td>33.574219</td>\n",
       "      <td>-6.579593</td>\n",
       "      <td>170.455585</td>\n",
       "      <td>-61.548219</td>\n",
       "      <td>1</td>\n",
       "      <td>0.2320</td>\n",
       "      <td>0.2262</td>\n",
       "      <td>0.0157</td>\n",
       "      <td>40.2561</td>\n",
       "      <td>0.021</td>\n",
       "      <td>42</td>\n",
       "    </tr>\n",
       "    <tr>\n",
       "      <th>3</th>\n",
       "      <td>745</td>\n",
       "      <td>0.189873</td>\n",
       "      <td>-45.586655</td>\n",
       "      <td>328.254458</td>\n",
       "      <td>-68.969298</td>\n",
       "      <td>1</td>\n",
       "      <td>0.3037</td>\n",
       "      <td>0.2813</td>\n",
       "      <td>1.1523</td>\n",
       "      <td>40.7951</td>\n",
       "      <td>0.007</td>\n",
       "      <td>90</td>\n",
       "    </tr>\n",
       "    <tr>\n",
       "      <th>4</th>\n",
       "      <td>1124</td>\n",
       "      <td>352.711273</td>\n",
       "      <td>-63.823658</td>\n",
       "      <td>316.922299</td>\n",
       "      <td>-51.059403</td>\n",
       "      <td>1</td>\n",
       "      <td>0.1934</td>\n",
       "      <td>0.2415</td>\n",
       "      <td>0.0176</td>\n",
       "      <td>40.4166</td>\n",
       "      <td>0.024</td>\n",
       "      <td>90</td>\n",
       "    </tr>\n",
       "    <tr>\n",
       "      <th>...</th>\n",
       "      <td>...</td>\n",
       "      <td>...</td>\n",
       "      <td>...</td>\n",
       "      <td>...</td>\n",
       "      <td>...</td>\n",
       "      <td>...</td>\n",
       "      <td>...</td>\n",
       "      <td>...</td>\n",
       "      <td>...</td>\n",
       "      <td>...</td>\n",
       "      <td>...</td>\n",
       "      <td>...</td>\n",
       "    </tr>\n",
       "    <tr>\n",
       "      <th>7843</th>\n",
       "      <td>130739978</td>\n",
       "      <td>26.718750</td>\n",
       "      <td>-14.940303</td>\n",
       "      <td>172.342697</td>\n",
       "      <td>-72.255675</td>\n",
       "      <td>0</td>\n",
       "      <td>0.0000</td>\n",
       "      <td>0.0000</td>\n",
       "      <td>0.0000</td>\n",
       "      <td>NaN</td>\n",
       "      <td>0.013</td>\n",
       "      <td>65</td>\n",
       "    </tr>\n",
       "    <tr>\n",
       "      <th>7844</th>\n",
       "      <td>130755807</td>\n",
       "      <td>120.101349</td>\n",
       "      <td>-62.696659</td>\n",
       "      <td>275.742955</td>\n",
       "      <td>-16.509746</td>\n",
       "      <td>0</td>\n",
       "      <td>0.1725</td>\n",
       "      <td>2.5606</td>\n",
       "      <td>1.1146</td>\n",
       "      <td>46.6108</td>\n",
       "      <td>0.136</td>\n",
       "      <td>90</td>\n",
       "    </tr>\n",
       "    <tr>\n",
       "      <th>7845</th>\n",
       "      <td>130762946</td>\n",
       "      <td>203.108109</td>\n",
       "      <td>-55.682144</td>\n",
       "      <td>308.728904</td>\n",
       "      <td>6.727511</td>\n",
       "      <td>0</td>\n",
       "      <td>0.0000</td>\n",
       "      <td>0.0000</td>\n",
       "      <td>0.0000</td>\n",
       "      <td>NaN</td>\n",
       "      <td>0.430</td>\n",
       "      <td>16</td>\n",
       "    </tr>\n",
       "    <tr>\n",
       "      <th>7846</th>\n",
       "      <td>130772921</td>\n",
       "      <td>79.101562</td>\n",
       "      <td>-35.501846</td>\n",
       "      <td>239.172243</td>\n",
       "      <td>-33.827844</td>\n",
       "      <td>0</td>\n",
       "      <td>0.0000</td>\n",
       "      <td>0.0000</td>\n",
       "      <td>0.0000</td>\n",
       "      <td>NaN</td>\n",
       "      <td>0.034</td>\n",
       "      <td>65</td>\n",
       "    </tr>\n",
       "    <tr>\n",
       "      <th>7847</th>\n",
       "      <td>130779836</td>\n",
       "      <td>301.992188</td>\n",
       "      <td>-17.426323</td>\n",
       "      <td>25.102988</td>\n",
       "      <td>-24.511101</td>\n",
       "      <td>0</td>\n",
       "      <td>0.0000</td>\n",
       "      <td>0.0000</td>\n",
       "      <td>0.0000</td>\n",
       "      <td>NaN</td>\n",
       "      <td>0.091</td>\n",
       "      <td>6</td>\n",
       "    </tr>\n",
       "  </tbody>\n",
       "</table>\n",
       "<p>7848 rows × 12 columns</p>\n",
       "</div>"
      ],
      "text/plain": [
       "      object_id          ra       decl       gal_l      gal_b  ddf  \\\n",
       "0           615  349.046051 -61.943836  320.796530 -51.753706    1   \n",
       "1           713   53.085938 -27.784405  223.525509 -54.460748    1   \n",
       "2           730   33.574219  -6.579593  170.455585 -61.548219    1   \n",
       "3           745    0.189873 -45.586655  328.254458 -68.969298    1   \n",
       "4          1124  352.711273 -63.823658  316.922299 -51.059403    1   \n",
       "...         ...         ...        ...         ...        ...  ...   \n",
       "7843  130739978   26.718750 -14.940303  172.342697 -72.255675    0   \n",
       "7844  130755807  120.101349 -62.696659  275.742955 -16.509746    0   \n",
       "7845  130762946  203.108109 -55.682144  308.728904   6.727511    0   \n",
       "7846  130772921   79.101562 -35.501846  239.172243 -33.827844    0   \n",
       "7847  130779836  301.992188 -17.426323   25.102988 -24.511101    0   \n",
       "\n",
       "      hostgal_specz  hostgal_photoz  hostgal_photoz_err  distmod  mwebv  \\\n",
       "0            0.0000          0.0000              0.0000      NaN  0.017   \n",
       "1            1.8181          1.6267              0.2552  45.4063  0.007   \n",
       "2            0.2320          0.2262              0.0157  40.2561  0.021   \n",
       "3            0.3037          0.2813              1.1523  40.7951  0.007   \n",
       "4            0.1934          0.2415              0.0176  40.4166  0.024   \n",
       "...             ...             ...                 ...      ...    ...   \n",
       "7843         0.0000          0.0000              0.0000      NaN  0.013   \n",
       "7844         0.1725          2.5606              1.1146  46.6108  0.136   \n",
       "7845         0.0000          0.0000              0.0000      NaN  0.430   \n",
       "7846         0.0000          0.0000              0.0000      NaN  0.034   \n",
       "7847         0.0000          0.0000              0.0000      NaN  0.091   \n",
       "\n",
       "      target  \n",
       "0         92  \n",
       "1         88  \n",
       "2         42  \n",
       "3         90  \n",
       "4         90  \n",
       "...      ...  \n",
       "7843      65  \n",
       "7844      90  \n",
       "7845      16  \n",
       "7846      65  \n",
       "7847       6  \n",
       "\n",
       "[7848 rows x 12 columns]"
      ]
     },
     "execution_count": 15,
     "metadata": {},
     "output_type": "execute_result"
    }
   ],
   "source": [
    "train_meta"
   ]
  },
  {
   "cell_type": "code",
   "execution_count": 16,
   "metadata": {},
   "outputs": [
    {
     "data": {
      "text/html": [
       "<div>\n",
       "<style scoped>\n",
       "    .dataframe tbody tr th:only-of-type {\n",
       "        vertical-align: middle;\n",
       "    }\n",
       "\n",
       "    .dataframe tbody tr th {\n",
       "        vertical-align: top;\n",
       "    }\n",
       "\n",
       "    .dataframe thead th {\n",
       "        text-align: right;\n",
       "    }\n",
       "</style>\n",
       "<table border=\"1\" class=\"dataframe\">\n",
       "  <thead>\n",
       "    <tr style=\"text-align: right;\">\n",
       "      <th></th>\n",
       "      <th>object_id</th>\n",
       "      <th>ra</th>\n",
       "      <th>decl</th>\n",
       "      <th>gal_l</th>\n",
       "      <th>gal_b</th>\n",
       "      <th>ddf</th>\n",
       "      <th>hostgal_specz</th>\n",
       "      <th>hostgal_photoz</th>\n",
       "      <th>hostgal_photoz_err</th>\n",
       "      <th>distmod</th>\n",
       "      <th>mwebv</th>\n",
       "      <th>target</th>\n",
       "    </tr>\n",
       "  </thead>\n",
       "  <tbody>\n",
       "    <tr>\n",
       "      <th>0</th>\n",
       "      <td>615</td>\n",
       "      <td>349.046051</td>\n",
       "      <td>-61.943836</td>\n",
       "      <td>320.796530</td>\n",
       "      <td>-51.753706</td>\n",
       "      <td>1</td>\n",
       "      <td>0.0000</td>\n",
       "      <td>0.0000</td>\n",
       "      <td>0.0000</td>\n",
       "      <td>NaN</td>\n",
       "      <td>0.017</td>\n",
       "      <td>92</td>\n",
       "    </tr>\n",
       "    <tr>\n",
       "      <th>1</th>\n",
       "      <td>713</td>\n",
       "      <td>53.085938</td>\n",
       "      <td>-27.784405</td>\n",
       "      <td>223.525509</td>\n",
       "      <td>-54.460748</td>\n",
       "      <td>1</td>\n",
       "      <td>1.8181</td>\n",
       "      <td>1.6267</td>\n",
       "      <td>0.2552</td>\n",
       "      <td>45.4063</td>\n",
       "      <td>0.007</td>\n",
       "      <td>88</td>\n",
       "    </tr>\n",
       "    <tr>\n",
       "      <th>2</th>\n",
       "      <td>730</td>\n",
       "      <td>33.574219</td>\n",
       "      <td>-6.579593</td>\n",
       "      <td>170.455585</td>\n",
       "      <td>-61.548219</td>\n",
       "      <td>1</td>\n",
       "      <td>0.2320</td>\n",
       "      <td>0.2262</td>\n",
       "      <td>0.0157</td>\n",
       "      <td>40.2561</td>\n",
       "      <td>0.021</td>\n",
       "      <td>42</td>\n",
       "    </tr>\n",
       "    <tr>\n",
       "      <th>3</th>\n",
       "      <td>745</td>\n",
       "      <td>0.189873</td>\n",
       "      <td>-45.586655</td>\n",
       "      <td>328.254458</td>\n",
       "      <td>-68.969298</td>\n",
       "      <td>1</td>\n",
       "      <td>0.3037</td>\n",
       "      <td>0.2813</td>\n",
       "      <td>1.1523</td>\n",
       "      <td>40.7951</td>\n",
       "      <td>0.007</td>\n",
       "      <td>90</td>\n",
       "    </tr>\n",
       "  </tbody>\n",
       "</table>\n",
       "</div>"
      ],
      "text/plain": [
       "   object_id          ra       decl       gal_l      gal_b  ddf  \\\n",
       "0        615  349.046051 -61.943836  320.796530 -51.753706    1   \n",
       "1        713   53.085938 -27.784405  223.525509 -54.460748    1   \n",
       "2        730   33.574219  -6.579593  170.455585 -61.548219    1   \n",
       "3        745    0.189873 -45.586655  328.254458 -68.969298    1   \n",
       "\n",
       "   hostgal_specz  hostgal_photoz  hostgal_photoz_err  distmod  mwebv  target  \n",
       "0         0.0000          0.0000              0.0000      NaN  0.017      92  \n",
       "1         1.8181          1.6267              0.2552  45.4063  0.007      88  \n",
       "2         0.2320          0.2262              0.0157  40.2561  0.021      42  \n",
       "3         0.3037          0.2813              1.1523  40.7951  0.007      90  "
      ]
     },
     "execution_count": 16,
     "metadata": {},
     "output_type": "execute_result"
    }
   ],
   "source": [
    "foo = train_meta[train_meta['object_id']<1000]\n",
    "foo"
   ]
  },
  {
   "cell_type": "code",
   "execution_count": 17,
   "metadata": {},
   "outputs": [
    {
     "data": {
      "image/png": "[encoded data removed]",
      "text/plain": [
       "<Figure size 576x576 with 1 Axes>"
      ]
     },
     "metadata": {
      "needs_background": "light"
     },
     "output_type": "display_data"
    }
   ],
   "source": [
    "f = plt.figure(figsize = (8, 8))\n",
    "plt.title('train_meta')\n",
    "plt.xlabel('hostgal_specz')\n",
    "plt.ylabel('distmod')\n",
    "y = plt.scatter(x=train_meta['hostgal_specz'],\n",
    "                y=train_meta['distmod'])"
   ]
  },
  {
   "cell_type": "code",
   "execution_count": 18,
   "metadata": {},
   "outputs": [
    {
     "data": {
      "image/png": "[encoded data removed]",
      "text/plain": [
       "<Figure size 576x576 with 1 Axes>"
      ]
     },
     "metadata": {
      "needs_background": "light"
     },
     "output_type": "display_data"
    }
   ],
   "source": [
    "f = plt.figure(figsize = (8, 8))\n",
    "plt.title('train_meta')\n",
    "plt.xlabel('hostgal_photoz')\n",
    "plt.ylabel('distmod')\n",
    "y = plt.scatter(x=train_meta['hostgal_photoz'],\n",
    "                y=train_meta['distmod'])"
   ]
  },
  {
   "cell_type": "code",
   "execution_count": 19,
   "metadata": {},
   "outputs": [
    {
     "data": {
      "image/png": "[encoded data removed]",
      "text/plain": [
       "<Figure size 576x576 with 1 Axes>"
      ]
     },
     "metadata": {
      "needs_background": "light"
     },
     "output_type": "display_data"
    }
   ],
   "source": [
    "f = plt.figure(figsize = (8, 8))\n",
    "plt.title('test_meta_sub')\n",
    "plt.xlabel('hostgal_specz')\n",
    "plt.ylabel('distmod')\n",
    "y = plt.scatter(x=test_meta_sub['hostgal_specz'],\n",
    "                y=test_meta_sub['distmod'])"
   ]
  },
  {
   "cell_type": "code",
   "execution_count": 20,
   "metadata": {},
   "outputs": [
    {
     "data": {
      "image/png": "[encoded data removed]",
      "text/plain": [
       "<Figure size 576x576 with 1 Axes>"
      ]
     },
     "metadata": {
      "needs_background": "light"
     },
     "output_type": "display_data"
    }
   ],
   "source": [
    "f = plt.figure(figsize = (8, 8))\n",
    "plt.title('test_meta_sub')\n",
    "plt.xlabel('hostgal_photoz')\n",
    "plt.ylabel('distmod')\n",
    "y = plt.scatter(x=test_meta_sub['hostgal_photoz'],\n",
    "                y=test_meta_sub['distmod'])"
   ]
  },
  {
   "cell_type": "markdown",
   "metadata": {},
   "source": [
    "# feature creation..."
   ]
  },
  {
   "cell_type": "code",
   "execution_count": 21,
   "metadata": {},
   "outputs": [],
   "source": [
    "# cesium\n",
    "# play with cesium a bit\n",
    "import cesium as cesium"
   ]
  },
  {
   "cell_type": "markdown",
   "metadata": {},
   "source": [
    "# For each of the 14 classes, how many objects are in the dataset..."
   ]
  },
  {
   "cell_type": "code",
   "execution_count": 22,
   "metadata": {},
   "outputs": [
    {
     "name": "stdout",
     "output_type": "stream",
     "text": [
      "(239, 12)\n",
      "(370, 12)\n",
      "(1193, 12)\n",
      "(2313, 12)\n",
      "(981, 12)\n",
      "(924, 12)\n",
      "(208, 12)\n",
      "(175, 12)\n",
      "(484, 12)\n",
      "(495, 12)\n",
      "(183, 12)\n",
      "(151, 12)\n",
      "(102, 12)\n",
      "(30, 12)\n"
     ]
    }
   ],
   "source": [
    "\n",
    "print(train_meta[train_meta[\"target\"]==92].shape)\n",
    "print(train_meta[train_meta[\"target\"]==88].shape)\n",
    "print(train_meta[train_meta[\"target\"]==42].shape)\n",
    "print(train_meta[train_meta[\"target\"]==90].shape)\n",
    "print(train_meta[train_meta[\"target\"]==65].shape)\n",
    "print(train_meta[train_meta[\"target\"]==16].shape)\n",
    "print(train_meta[train_meta[\"target\"]==67].shape)\n",
    "print(train_meta[train_meta[\"target\"]==95].shape)\n",
    "print(train_meta[train_meta[\"target\"]==62].shape)\n",
    "print(train_meta[train_meta[\"target\"]==15].shape)\n",
    "print(train_meta[train_meta[\"target\"]==52].shape)\n",
    "print(train_meta[train_meta[\"target\"]==6].shape)\n",
    "print(train_meta[train_meta[\"target\"]==64].shape)\n",
    "print(train_meta[train_meta[\"target\"]==53].shape)"
   ]
  },
  {
   "cell_type": "code",
   "execution_count": 32,
   "metadata": {},
   "outputs": [
    {
     "data": {
      "text/plain": [
       "object_id             615.000000\n",
       "ra                    349.046051\n",
       "decl                  -61.943836\n",
       "gal_l                 320.796530\n",
       "gal_b                 -51.753706\n",
       "ddf                     1.000000\n",
       "hostgal_specz           0.000000\n",
       "hostgal_photoz          0.000000\n",
       "hostgal_photoz_err      0.000000\n",
       "distmod                      NaN\n",
       "mwebv                   0.017000\n",
       "target                 92.000000\n",
       "Name: 0, dtype: float64"
      ]
     },
     "execution_count": 32,
     "metadata": {},
     "output_type": "execute_result"
    }
   ],
   "source": [
    "# for class 92 - investigate the first object...\n",
    "class_id = 92\n",
    "object_num = 0\n",
    "objects_df = train_meta[train_meta[\"target\"]==class_id]\n",
    "#objects_df\n",
    "object_df = objects_df.iloc[object_num]\n",
    "object_df"
   ]
  },
  {
   "cell_type": "code",
   "execution_count": 33,
   "metadata": {},
   "outputs": [
    {
     "data": {
      "image/png": "[encoded data removed]",
      "text/plain": [
       "<Figure size 576x432 with 1 Axes>"
      ]
     },
     "metadata": {
      "needs_background": "light"
     },
     "output_type": "display_data"
    }
   ],
   "source": [
    "# ... continuing from above...\n",
    "object_id = object_df['object_id']\n",
    "criteria = train[\"object_id\"] == object_id\n",
    "result = train[criteria]\n",
    "### the definition of MyLightCurve is at bottom of this notebook !!!!\n",
    "myLightCurve =  MyLightCurve(result)\n",
    "myLightCurve.plot_multicolor_lc()"
   ]
  },
  {
   "cell_type": "code",
   "execution_count": null,
   "metadata": {},
   "outputs": [],
   "source": []
  },
  {
   "cell_type": "code",
   "execution_count": null,
   "metadata": {},
   "outputs": [],
   "source": []
  },
  {
   "cell_type": "code",
   "execution_count": null,
   "metadata": {},
   "outputs": [],
   "source": []
  },
  {
   "cell_type": "code",
   "execution_count": 31,
   "metadata": {},
   "outputs": [],
   "source": [
    "### define MyLightCurve - this is used to plot light curves\n",
    "\n",
    "from collections import OrderedDict\n",
    "import scipy.stats as spstat\n",
    "\n",
    "class MyLightCurve(object):\n",
    "    '''Light curve object for PLAsTiCC formatted data'''\n",
    "    \n",
    "    _passbands = OrderedDict([(0,'C4'),\\\n",
    "                              (1,'C2'),\\\n",
    "                              (2,'C3'),\\\n",
    "                              (3,'C1'),\\\n",
    "                              (4,'k'),\\\n",
    "                              (5,'C5')])\n",
    "    \n",
    "    _pbnames = ['u','g','r','i','z','y']\n",
    "    \n",
    "    def __init__(self, dataframe):\n",
    "        '''Read in light curve data'''\n",
    "\n",
    "        self.DFlc     = dataframe\n",
    "        self.filename = 'n/a'\n",
    "        self._finalize()\n",
    "     \n",
    "    # this is some simple code to demonstrate how to calculate features on these multiband light curves\n",
    "    # we're not suggesting using these features specifically\n",
    "    # there also might be additional pre-processing you do before computing anything\n",
    "    # it's purely for illustration\n",
    "    def _finalize(self):\n",
    "        '''Store individual passband fluxes as object attributes'''\n",
    "        # in this example, we'll use the weighted mean to normalize the features\n",
    "        weighted_mean = lambda flux, dflux: np.sum(flux*(flux/dflux)**2)/np.sum((flux/dflux)**2)\n",
    "        \n",
    "        # define some functions to compute simple descriptive statistics\n",
    "        normalized_flux_std = lambda flux, wMeanFlux: np.std(flux/wMeanFlux, ddof = 1)\n",
    "        normalized_amplitude = lambda flux, wMeanFlux: (np.max(flux) - np.min(flux))/wMeanFlux\n",
    "        normalized_MAD = lambda flux, wMeanFlux: np.median(np.abs((flux - np.median(flux))/wMeanFlux))\n",
    "        beyond_1std = lambda flux, wMeanFlux: sum(np.abs(flux - wMeanFlux) > np.std(flux, ddof = 1))/len(flux)\n",
    "        \n",
    "        for pb in self._passbands:\n",
    "            ind = self.DFlc['passband'] == pb\n",
    "            pbname = self._pbnames[pb]\n",
    "            \n",
    "            if len(self.DFlc[ind]) == 0:\n",
    "                setattr(self, f'{pbname}Std', np.nan)\n",
    "                setattr(self, f'{pbname}Amp', np.nan)\n",
    "                setattr(self, f'{pbname}MAD', np.nan)\n",
    "                setattr(self, f'{pbname}Beyond', np.nan)\n",
    "                setattr(self, f'{pbname}Skew', np.nan)\n",
    "                continue\n",
    "            \n",
    "            f  = self.DFlc['flux'][ind]\n",
    "            df = self.DFlc['flux_err'][ind]\n",
    "            m  = weighted_mean(f, df)\n",
    "            \n",
    "            # we'll save the measurements in each passband to simplify access.\n",
    "            setattr(self, f'{pbname}Flux', f)\n",
    "            setattr(self, f'{pbname}FluxUnc', df)\n",
    "            setattr(self, f'{pbname}Mean', m)\n",
    "            \n",
    "            # compute the features\n",
    "            std = normalized_flux_std(f, df)\n",
    "            amp = normalized_amplitude(f, m)\n",
    "            mad = normalized_MAD(f, m)\n",
    "            beyond = beyond_1std(f, m)\n",
    "            skew = spstat.skew(f) \n",
    "            \n",
    "            # and save the features\n",
    "            setattr(self, f'{pbname}Std', std)\n",
    "            setattr(self, f'{pbname}Amp', amp)\n",
    "            setattr(self, f'{pbname}MAD', mad)\n",
    "            setattr(self, f'{pbname}Beyond', beyond)\n",
    "            setattr(self, f'{pbname}Skew', skew)\n",
    "        \n",
    "        # we can also construct features between passbands\n",
    "        pbs = list(self._passbands.keys())\n",
    "        for i, lpb in enumerate(pbs[0:-1]):\n",
    "            rpb = pbs[i+1]\n",
    "            \n",
    "            lpbname = self._pbnames[lpb]\n",
    "            rpbname = self._pbnames[rpb]\n",
    "            \n",
    "            colname = '{}Minus{}'.format(lpbname, rpbname.upper())\n",
    "            lMean = getattr(self, f'{lpbname}Mean', np.nan)\n",
    "            rMean = getattr(self, f'{rpbname}Mean', np.nan)\n",
    "            col = -2.5*np.log10(lMean/rMean) if lMean> 0 and rMean > 0 else -999\n",
    "            setattr(self, colname, col)\n",
    "    \n",
    "    # this is a simple routine to visualize a light curve\n",
    "    # it can plot vs the MJD array of the light curve\n",
    "    # or vs an optional `phase` array that you pass \n",
    "    def plot_multicolor_lc(self, phase=None):\n",
    "        '''Plot the multiband light curve'''\n",
    "\n",
    "        fig, ax = plt.subplots(figsize=(8,6))\n",
    "\n",
    "        \n",
    "        if phase is None:\n",
    "            phase = []\n",
    "        if len(phase) != len(self.DFlc):\n",
    "            phase = self.DFlc['mjd']\n",
    "            xlabel = 'MJD'\n",
    "        else:\n",
    "            xlabel = 'Phase'\n",
    "            \n",
    "        for i, pb in enumerate(self._passbands):\n",
    "            pbname = self._pbnames[pb]\n",
    "            ind = self.DFlc['passband'] == pb\n",
    "            if len(self.DFlc[ind]) == 0:\n",
    "                continue\n",
    "            ax.errorbar(phase[ind], \n",
    "                     self.DFlc['flux'][ind],\n",
    "                     self.DFlc['flux_err'][ind],\n",
    "                     fmt = 'o', color = self._passbands[pb], label = f'{pbname}')\n",
    "        ax.legend(ncol = 4, frameon = True)\n",
    "        ax.set_xlabel(f'{xlabel}', fontsize='large')\n",
    "        ax.set_ylabel('Flux', fontsize='large')\n",
    "        fig.suptitle(self.filename, fontsize='x-large')\n",
    "        fig.tight_layout(rect=[0, 0, 1, 0.97])\n",
    "    \n",
    "    def get_features(self):\n",
    "        '''Return all the features for this object'''\n",
    "        variables = ['Std', 'Amp', 'MAD', 'Beyond', 'Skew']\n",
    "        feats = []\n",
    "        for i, pb in enumerate(self._passbands):\n",
    "            pbname = self._pbnames[pb]\n",
    "            feats += [getattr(self, f'{pbname}{x}', np.nan) for x in variables]\n",
    "        return feats"
   ]
  },
  {
   "cell_type": "code",
   "execution_count": null,
   "metadata": {},
   "outputs": [],
   "source": []
  }
 ],
 "metadata": {
  "kernelspec": {
   "display_name": "Python 3",
   "language": "python",
   "name": "python3"
  },
  "language_info": {
   "codemirror_mode": {
    "name": "ipython",
    "version": 3
   },
   "file_extension": ".py",
   "mimetype": "text/x-python",
   "name": "python",
   "nbconvert_exporter": "python",
   "pygments_lexer": "ipython3",
   "version": "3.7.5rc1"
  }
 },
 "nbformat": 4,
 "nbformat_minor": 2
}
